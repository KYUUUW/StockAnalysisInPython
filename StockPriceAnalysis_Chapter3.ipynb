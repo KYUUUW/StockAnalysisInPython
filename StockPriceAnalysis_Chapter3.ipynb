{
 "cells": [
  {
   "cell_type": "markdown",
   "metadata": {},
   "source": [
    "# Pandas 를 이용한 데이터분석\n",
    "\n",
    "파이썬 증권 데이터 분석\n",
    "\n",
    "## 기초 Numpy 사용법"
   ]
  },
  {
   "cell_type": "code",
   "execution_count": 1,
   "metadata": {},
   "outputs": [
    {
     "data": {
      "text/plain": [
       "array([[1, 2],\n",
       "       [3, 4]])"
      ]
     },
     "execution_count": 1,
     "metadata": {},
     "output_type": "execute_result"
    }
   ],
   "source": [
    "import numpy as np\n",
    "\n",
    "A = np.array([[1,2], [3,4]])\n",
    "A"
   ]
  },
  {
   "cell_type": "code",
   "execution_count": 2,
   "metadata": {},
   "outputs": [
    {
     "data": {
      "text/plain": [
       "numpy.ndarray"
      ]
     },
     "execution_count": 2,
     "metadata": {},
     "output_type": "execute_result"
    }
   ],
   "source": [
    "type(A)"
   ]
  },
  {
   "cell_type": "code",
   "execution_count": 3,
   "metadata": {},
   "outputs": [
    {
     "data": {
      "text/plain": [
       "2"
      ]
     },
     "execution_count": 3,
     "metadata": {},
     "output_type": "execute_result"
    }
   ],
   "source": [
    "# 차원\n",
    "A.ndim"
   ]
  },
  {
   "cell_type": "code",
   "execution_count": 4,
   "metadata": {},
   "outputs": [
    {
     "data": {
      "text/plain": [
       "(2, 2)"
      ]
     },
     "execution_count": 4,
     "metadata": {},
     "output_type": "execute_result"
    }
   ],
   "source": [
    "# 크기\n",
    "A.shape"
   ]
  },
  {
   "cell_type": "code",
   "execution_count": 5,
   "metadata": {},
   "outputs": [
    {
     "data": {
      "text/plain": [
       "array([3, 4])"
      ]
     },
     "execution_count": 5,
     "metadata": {},
     "output_type": "execute_result"
    }
   ],
   "source": [
    "# 접근 1\n",
    "A[-1]"
   ]
  },
  {
   "cell_type": "code",
   "execution_count": 6,
   "metadata": {},
   "outputs": [
    {
     "data": {
      "text/plain": [
       "3"
      ]
     },
     "execution_count": 6,
     "metadata": {},
     "output_type": "execute_result"
    }
   ],
   "source": [
    "# 접근 2\n",
    "A[1][0]"
   ]
  },
  {
   "cell_type": "code",
   "execution_count": 7,
   "metadata": {},
   "outputs": [
    {
     "data": {
      "text/plain": [
       "array([2, 3, 4])"
      ]
     },
     "execution_count": 7,
     "metadata": {},
     "output_type": "execute_result"
    }
   ],
   "source": [
    "# 접근 3\n",
    "A[A>1]"
   ]
  },
  {
   "cell_type": "code",
   "execution_count": 8,
   "metadata": {},
   "outputs": [
    {
     "data": {
      "text/plain": [
       "array([[1, 3],\n",
       "       [2, 4]])"
      ]
     },
     "execution_count": 8,
     "metadata": {},
     "output_type": "execute_result"
    }
   ],
   "source": [
    "# Transpose\n",
    "A.T"
   ]
  },
  {
   "cell_type": "code",
   "execution_count": 9,
   "metadata": {},
   "outputs": [
    {
     "data": {
      "text/plain": [
       "array([1, 2, 3, 4])"
      ]
     },
     "execution_count": 9,
     "metadata": {},
     "output_type": "execute_result"
    }
   ],
   "source": [
    "# flatten\n",
    "A.flatten()"
   ]
  },
  {
   "cell_type": "code",
   "execution_count": 10,
   "metadata": {},
   "outputs": [
    {
     "data": {
      "text/plain": [
       "array([[2, 4],\n",
       "       [6, 8]])"
      ]
     },
     "execution_count": 10,
     "metadata": {},
     "output_type": "execute_result"
    }
   ],
   "source": [
    "# calc 1\n",
    "A + A"
   ]
  },
  {
   "cell_type": "code",
   "execution_count": 11,
   "metadata": {},
   "outputs": [
    {
     "data": {
      "text/plain": [
       "array([[ 1,  4],\n",
       "       [ 9, 16]])"
      ]
     },
     "execution_count": 11,
     "metadata": {},
     "output_type": "execute_result"
    }
   ],
   "source": [
    "# calc 2\n",
    "A * A"
   ]
  },
  {
   "cell_type": "code",
   "execution_count": 12,
   "metadata": {},
   "outputs": [
    {
     "data": {
      "text/plain": [
       "array([[1., 1.],\n",
       "       [1., 1.]])"
      ]
     },
     "execution_count": 12,
     "metadata": {},
     "output_type": "execute_result"
    }
   ],
   "source": [
    "# calc 3\n",
    "A / A"
   ]
  },
  {
   "cell_type": "code",
   "execution_count": 13,
   "metadata": {},
   "outputs": [
    {
     "data": {
      "text/plain": [
       "array([[ 10, 200],\n",
       "       [ 30, 400]])"
      ]
     },
     "execution_count": 13,
     "metadata": {},
     "output_type": "execute_result"
    }
   ],
   "source": [
    "# broadcasting\n",
    "A\n",
    "B = np.array([10, 100])\n",
    "A*B"
   ]
  },
  {
   "cell_type": "code",
   "execution_count": 14,
   "metadata": {},
   "outputs": [
    {
     "data": {
      "text/plain": [
       "10100"
      ]
     },
     "execution_count": 14,
     "metadata": {},
     "output_type": "execute_result"
    }
   ],
   "source": [
    "# dot product (내적) 1\n",
    "B.dot(B)"
   ]
  },
  {
   "cell_type": "code",
   "execution_count": 15,
   "metadata": {},
   "outputs": [
    {
     "data": {
      "text/plain": [
       "array([210, 430])"
      ]
     },
     "execution_count": 15,
     "metadata": {},
     "output_type": "execute_result"
    }
   ],
   "source": [
    "# dot product (내적) 1\n",
    "A.dot(B)"
   ]
  },
  {
   "cell_type": "markdown",
   "metadata": {},
   "source": [
    "## Pandas 사용법\n",
    "\n",
    "### Series\n",
    "\n",
    "1차원 벡터형태의 자료형 -> 시계열"
   ]
  },
  {
   "cell_type": "code",
   "execution_count": 16,
   "metadata": {},
   "outputs": [
    {
     "data": {
      "text/plain": [
       "0    0.0\n",
       "1    3.6\n",
       "2    2.0\n",
       "3    5.8\n",
       "4    4.2\n",
       "5    8.0\n",
       "dtype: float64"
      ]
     },
     "execution_count": 16,
     "metadata": {},
     "output_type": "execute_result"
    }
   ],
   "source": [
    "# Defining series\n",
    "import pandas as pd\n",
    "s = pd.Series([0.0, 3.6, 2.0, 5.8, 4.2, 8.0])\n",
    "s"
   ]
  },
  {
   "cell_type": "code",
   "execution_count": 17,
   "metadata": {},
   "outputs": [
    {
     "data": {
      "text/plain": [
       "MyIdx\n",
       "0.0    0.0\n",
       "1.2    3.6\n",
       "1.8    2.0\n",
       "3.0    5.8\n",
       "3.6    4.2\n",
       "4.8    8.0\n",
       "dtype: float64"
      ]
     },
     "execution_count": 17,
     "metadata": {},
     "output_type": "execute_result"
    }
   ],
   "source": [
    "# define index\n",
    "s.index = pd.Index([0.0, 1.2, 1.8, 3.0, 3.6, 4.8])\n",
    "s.index.name = 'MyIdx'\n",
    "s"
   ]
  },
  {
   "cell_type": "code",
   "execution_count": 18,
   "metadata": {},
   "outputs": [
    {
     "data": {
      "text/plain": [
       "MyIdx\n",
       "0.0    0.0\n",
       "1.2    3.6\n",
       "1.8    2.0\n",
       "3.0    5.8\n",
       "3.6    4.2\n",
       "4.8    8.0\n",
       "Name: MySeries, dtype: float64"
      ]
     },
     "execution_count": 18,
     "metadata": {},
     "output_type": "execute_result"
    }
   ],
   "source": [
    "# Define name\n",
    "s.name = 'MySeries'\n",
    "s"
   ]
  },
  {
   "cell_type": "code",
   "execution_count": 19,
   "metadata": {},
   "outputs": [
    {
     "data": {
      "text/plain": [
       "MyIdx\n",
       "0.0    0.0\n",
       "1.2    3.6\n",
       "1.8    2.0\n",
       "3.0    5.8\n",
       "3.6    4.2\n",
       "4.8    8.0\n",
       "5.9    5.5\n",
       "Name: MySeries, dtype: float64"
      ]
     },
     "execution_count": 19,
     "metadata": {},
     "output_type": "execute_result"
    }
   ],
   "source": [
    "# Add data\n",
    "s[5.9] = 5.5\n",
    "s"
   ]
  },
  {
   "cell_type": "code",
   "execution_count": 20,
   "metadata": {},
   "outputs": [
    {
     "data": {
      "text/plain": [
       "0.0    0.0\n",
       "1.2    3.6\n",
       "1.8    2.0\n",
       "3.0    5.8\n",
       "3.6    4.2\n",
       "4.8    8.0\n",
       "5.9    5.5\n",
       "6.8    6.7\n",
       "8.0    4.2\n",
       "dtype: float64"
      ]
     },
     "execution_count": 20,
     "metadata": {},
     "output_type": "execute_result"
    }
   ],
   "source": [
    "# Append series\n",
    "ser = pd.Series([6.7, 4.2], index=[6.8, 8.0])\n",
    "s = s.append(ser)\n",
    "s"
   ]
  },
  {
   "cell_type": "code",
   "execution_count": 21,
   "metadata": {},
   "outputs": [
    {
     "data": {
      "text/plain": [
       "8.0"
      ]
     },
     "execution_count": 21,
     "metadata": {},
     "output_type": "execute_result"
    }
   ],
   "source": [
    "# get index\n",
    "s.index[-1]"
   ]
  },
  {
   "cell_type": "code",
   "execution_count": 22,
   "metadata": {},
   "outputs": [
    {
     "data": {
      "text/plain": [
       "4.2"
      ]
     },
     "execution_count": 22,
     "metadata": {},
     "output_type": "execute_result"
    }
   ],
   "source": [
    "# get value by index order\n",
    "s.values[-1]"
   ]
  },
  {
   "cell_type": "code",
   "execution_count": 23,
   "metadata": {},
   "outputs": [
    {
     "data": {
      "text/plain": [
       "3.6"
      ]
     },
     "execution_count": 23,
     "metadata": {},
     "output_type": "execute_result"
    }
   ],
   "source": [
    "# get value by index\n",
    "s.loc[1.2]"
   ]
  },
  {
   "cell_type": "code",
   "execution_count": 24,
   "metadata": {},
   "outputs": [
    {
     "data": {
      "text/plain": [
       "4.2"
      ]
     },
     "execution_count": 24,
     "metadata": {},
     "output_type": "execute_result"
    }
   ],
   "source": [
    "# get value by integer location\n",
    "s.iloc[-1]"
   ]
  },
  {
   "cell_type": "code",
   "execution_count": 25,
   "metadata": {},
   "outputs": [
    {
     "data": {
      "text/plain": [
       "array([0. , 3.6, 2. , 5.8, 4.2, 8. , 5.5, 6.7, 4.2])"
      ]
     },
     "execution_count": 25,
     "metadata": {},
     "output_type": "execute_result"
    }
   ],
   "source": [
    "# differ between values and iloc 1\n",
    "s.values[:]"
   ]
  },
  {
   "cell_type": "code",
   "execution_count": 26,
   "metadata": {},
   "outputs": [
    {
     "data": {
      "text/plain": [
       "0.0    0.0\n",
       "1.2    3.6\n",
       "1.8    2.0\n",
       "3.0    5.8\n",
       "3.6    4.2\n",
       "4.8    8.0\n",
       "5.9    5.5\n",
       "6.8    6.7\n",
       "8.0    4.2\n",
       "dtype: float64"
      ]
     },
     "execution_count": 26,
     "metadata": {},
     "output_type": "execute_result"
    }
   ],
   "source": [
    "# differ between values and iloc 2\n",
    "s.iloc[:]"
   ]
  },
  {
   "cell_type": "code",
   "execution_count": 27,
   "metadata": {},
   "outputs": [
    {
     "data": {
      "text/plain": [
       "0.0    0.0\n",
       "1.2    3.6\n",
       "1.8    2.0\n",
       "3.0    5.8\n",
       "3.6    4.2\n",
       "4.8    8.0\n",
       "5.9    5.5\n",
       "6.8    6.7\n",
       "dtype: float64"
      ]
     },
     "execution_count": 27,
     "metadata": {},
     "output_type": "execute_result"
    }
   ],
   "source": [
    "# delete element\n",
    "s.drop(8.0)"
   ]
  },
  {
   "cell_type": "code",
   "execution_count": 28,
   "metadata": {},
   "outputs": [
    {
     "data": {
      "text/plain": [
       "count    9.000000\n",
       "mean     4.444444\n",
       "std      2.430078\n",
       "min      0.000000\n",
       "25%      3.600000\n",
       "50%      4.200000\n",
       "75%      5.800000\n",
       "max      8.000000\n",
       "dtype: float64"
      ]
     },
     "execution_count": 28,
     "metadata": {},
     "output_type": "execute_result"
    }
   ],
   "source": [
    "# describe series\n",
    "s.describe()"
   ]
  },
  {
   "cell_type": "code",
   "execution_count": 29,
   "metadata": {},
   "outputs": [
    {
     "data": {
      "image/png": "[encoded data removed]",
      "text/plain": [
       "<Figure size 432x288 with 1 Axes>"
      ]
     },
     "metadata": {
      "needs_background": "light"
     },
     "output_type": "display_data"
    }
   ],
   "source": [
    "# Visualize series\n",
    "import pandas as pd\n",
    "s = pd.Series([0.0, 3.6, 2.0, 5.8, 4.2, 8.0, 5.5, 6.7, 4.2])\n",
    "s.index = pd.Index([0.0, 1.2, 1.8, 3.0, 3.6, 4.8, 5.9, 6.8, 8.0])\n",
    "s.index.name = 'my idx name'\n",
    "s.name = 'Visualize eliott wave'\n",
    "\n",
    "import matplotlib.pyplot as plt\n",
    "plt.title('Elliot wave')\n",
    "plt.plot(s, 'bs--')\n",
    "plt.xticks(s.index)\n",
    "plt.yticks(s.values)\n",
    "plt.grid(True)\n",
    "plt.show()"
   ]
  },
  {
   "cell_type": "markdown",
   "metadata": {},
   "source": [
    "### Data frame\n",
    "\n",
    "한 시계열에 대해 여러 데이터가 필요할 때 dataframe 을 사용한다.\n",
    "\n",
    "각각의 데이터를 dictinary 형태로 넣어준다."
   ]
  },
  {
   "cell_type": "code",
   "execution_count": 30,
   "metadata": {},
   "outputs": [
    {
     "data": {
      "text/html": [
       "<div>\n",
       "<style scoped>\n",
       "    .dataframe tbody tr th:only-of-type {\n",
       "        vertical-align: middle;\n",
       "    }\n",
       "\n",
       "    .dataframe tbody tr th {\n",
       "        vertical-align: top;\n",
       "    }\n",
       "\n",
       "    .dataframe thead th {\n",
       "        text-align: right;\n",
       "    }\n",
       "</style>\n",
       "<table border=\"1\" class=\"dataframe\">\n",
       "  <thead>\n",
       "    <tr style=\"text-align: right;\">\n",
       "      <th></th>\n",
       "      <th>KOSPI</th>\n",
       "      <th>KOSDAQ</th>\n",
       "    </tr>\n",
       "  </thead>\n",
       "  <tbody>\n",
       "    <tr>\n",
       "      <th>0</th>\n",
       "      <td>1915</td>\n",
       "      <td>542</td>\n",
       "    </tr>\n",
       "    <tr>\n",
       "      <th>1</th>\n",
       "      <td>1961</td>\n",
       "      <td>682</td>\n",
       "    </tr>\n",
       "    <tr>\n",
       "      <th>2</th>\n",
       "      <td>2026</td>\n",
       "      <td>631</td>\n",
       "    </tr>\n",
       "    <tr>\n",
       "      <th>3</th>\n",
       "      <td>2467</td>\n",
       "      <td>798</td>\n",
       "    </tr>\n",
       "    <tr>\n",
       "      <th>4</th>\n",
       "      <td>2041</td>\n",
       "      <td>675</td>\n",
       "    </tr>\n",
       "  </tbody>\n",
       "</table>\n",
       "</div>"
      ],
      "text/plain": [
       "   KOSPI  KOSDAQ\n",
       "0   1915     542\n",
       "1   1961     682\n",
       "2   2026     631\n",
       "3   2467     798\n",
       "4   2041     675"
      ]
     },
     "execution_count": 30,
     "metadata": {},
     "output_type": "execute_result"
    }
   ],
   "source": [
    "import pandas as pd\n",
    "\n",
    "# Use dataframe\n",
    "df = pd.DataFrame({'KOSPI': [1915, 1961, 2026, 2467, 2041], \n",
    "                   'KOSDAQ': [542, 682, 631, 798, 675]})\n",
    "df"
   ]
  },
  {
   "cell_type": "code",
   "execution_count": 31,
   "metadata": {},
   "outputs": [
    {
     "data": {
      "text/html": [
       "<div>\n",
       "<style scoped>\n",
       "    .dataframe tbody tr th:only-of-type {\n",
       "        vertical-align: middle;\n",
       "    }\n",
       "\n",
       "    .dataframe tbody tr th {\n",
       "        vertical-align: top;\n",
       "    }\n",
       "\n",
       "    .dataframe thead th {\n",
       "        text-align: right;\n",
       "    }\n",
       "</style>\n",
       "<table border=\"1\" class=\"dataframe\">\n",
       "  <thead>\n",
       "    <tr style=\"text-align: right;\">\n",
       "      <th></th>\n",
       "      <th>KOSPI</th>\n",
       "      <th>KOSDAQ</th>\n",
       "    </tr>\n",
       "  </thead>\n",
       "  <tbody>\n",
       "    <tr>\n",
       "      <th>2014</th>\n",
       "      <td>1915</td>\n",
       "      <td>542</td>\n",
       "    </tr>\n",
       "    <tr>\n",
       "      <th>2015</th>\n",
       "      <td>1961</td>\n",
       "      <td>682</td>\n",
       "    </tr>\n",
       "    <tr>\n",
       "      <th>2016</th>\n",
       "      <td>2026</td>\n",
       "      <td>631</td>\n",
       "    </tr>\n",
       "    <tr>\n",
       "      <th>2017</th>\n",
       "      <td>2467</td>\n",
       "      <td>798</td>\n",
       "    </tr>\n",
       "    <tr>\n",
       "      <th>2018</th>\n",
       "      <td>2041</td>\n",
       "      <td>675</td>\n",
       "    </tr>\n",
       "  </tbody>\n",
       "</table>\n",
       "</div>"
      ],
      "text/plain": [
       "      KOSPI  KOSDAQ\n",
       "2014   1915     542\n",
       "2015   1961     682\n",
       "2016   2026     631\n",
       "2017   2467     798\n",
       "2018   2041     675"
      ]
     },
     "execution_count": 31,
     "metadata": {},
     "output_type": "execute_result"
    }
   ],
   "source": [
    "# define index\n",
    "df = pd.DataFrame({'KOSPI': [1915, 1961, 2026, 2467, 2041], \n",
    "                   'KOSDAQ': [542, 682, 631, 798, 675]},\n",
    "                 index=[2014, 2015, 2016, 2017, 2018])\n",
    "df"
   ]
  },
  {
   "cell_type": "code",
   "execution_count": 32,
   "metadata": {},
   "outputs": [
    {
     "name": "stdout",
     "output_type": "stream",
     "text": [
      "<class 'pandas.core.frame.DataFrame'>\n",
      "Int64Index: 5 entries, 2014 to 2018\n",
      "Data columns (total 2 columns):\n",
      " #   Column  Non-Null Count  Dtype\n",
      "---  ------  --------------  -----\n",
      " 0   KOSPI   5 non-null      int64\n",
      " 1   KOSDAQ  5 non-null      int64\n",
      "dtypes: int64(2)\n",
      "memory usage: 120.0 bytes\n"
     ]
    }
   ],
   "source": [
    "df.info()"
   ]
  },
  {
   "cell_type": "code",
   "execution_count": 33,
   "metadata": {},
   "outputs": [
    {
     "data": {
      "text/html": [
       "<div>\n",
       "<style scoped>\n",
       "    .dataframe tbody tr th:only-of-type {\n",
       "        vertical-align: middle;\n",
       "    }\n",
       "\n",
       "    .dataframe tbody tr th {\n",
       "        vertical-align: top;\n",
       "    }\n",
       "\n",
       "    .dataframe thead th {\n",
       "        text-align: right;\n",
       "    }\n",
       "</style>\n",
       "<table border=\"1\" class=\"dataframe\">\n",
       "  <thead>\n",
       "    <tr style=\"text-align: right;\">\n",
       "      <th></th>\n",
       "      <th>KOSPI</th>\n",
       "      <th>KOSDAQ</th>\n",
       "    </tr>\n",
       "  </thead>\n",
       "  <tbody>\n",
       "    <tr>\n",
       "      <th>2014</th>\n",
       "      <td>1915</td>\n",
       "      <td>542</td>\n",
       "    </tr>\n",
       "    <tr>\n",
       "      <th>2015</th>\n",
       "      <td>1961</td>\n",
       "      <td>682</td>\n",
       "    </tr>\n",
       "    <tr>\n",
       "      <th>2016</th>\n",
       "      <td>2026</td>\n",
       "      <td>631</td>\n",
       "    </tr>\n",
       "    <tr>\n",
       "      <th>2017</th>\n",
       "      <td>2467</td>\n",
       "      <td>798</td>\n",
       "    </tr>\n",
       "    <tr>\n",
       "      <th>2018</th>\n",
       "      <td>2041</td>\n",
       "      <td>675</td>\n",
       "    </tr>\n",
       "  </tbody>\n",
       "</table>\n",
       "</div>"
      ],
      "text/plain": [
       "      KOSPI  KOSDAQ\n",
       "2014   1915     542\n",
       "2015   1961     682\n",
       "2016   2026     631\n",
       "2017   2467     798\n",
       "2018   2041     675"
      ]
     },
     "execution_count": 33,
     "metadata": {},
     "output_type": "execute_result"
    }
   ],
   "source": [
    "# Combine serises to make dataframe\n",
    "kospi = pd.Series([1915, 1961, 2026, 2467, 2041], index=[2014, 2015, 2016, 2017, 2018], name='KOSPI')\n",
    "kosdaq = pd.Series([542, 682, 631, 798, 675], index=[2014, 2015, 2016, 2017, 2018], name='KOSDAQ')\n",
    "df = pd.DataFrame({kospi.name: kospi, kosdaq.name: kosdaq})\n",
    "df"
   ]
  },
  {
   "cell_type": "code",
   "execution_count": 34,
   "metadata": {},
   "outputs": [],
   "source": [
    "# Use list to make dataframeL rows and colums\n",
    "columns = ['KOSPI', 'KOSDAQ']\n",
    "index = [2014, 2015, 2016, 2017, 2018]\n",
    "rows = []\n",
    "rows.append([1915, 542])\n",
    "rows.append([1961, 682])\n",
    "rows.append([2026, 631])\n",
    "rows.append([2467, 798])\n",
    "rows.append([2041, 675])\n",
    "\n",
    "df = pd.DataFrame(rows, columns=columns, index=index)"
   ]
  },
  {
   "cell_type": "code",
   "execution_count": 35,
   "metadata": {},
   "outputs": [
    {
     "name": "stdout",
     "output_type": "stream",
     "text": [
      "2014 1915 542\n",
      "2015 1961 682\n",
      "2016 2026 631\n",
      "2017 2467 798\n",
      "2018 2041 675\n"
     ]
    }
   ],
   "source": [
    "# Round dataframe 1\n",
    "for i in df.index:\n",
    "    print(i, df['KOSPI'][i], df['KOSDAQ'][i])"
   ]
  },
  {
   "cell_type": "code",
   "execution_count": 36,
   "metadata": {},
   "outputs": [
    {
     "name": "stdout",
     "output_type": "stream",
     "text": [
      "KRX(Index=2014, KOSPI=1915, KOSDAQ=542)\n",
      "KRX(Index=2015, KOSPI=1961, KOSDAQ=682)\n",
      "KRX(Index=2016, KOSPI=2026, KOSDAQ=631)\n",
      "KRX(Index=2017, KOSPI=2467, KOSDAQ=798)\n",
      "KRX(Index=2018, KOSPI=2041, KOSDAQ=675)\n"
     ]
    }
   ],
   "source": [
    "# Round dataframe 2\n",
    "for row in df.itertuples(name='KRX'):\n",
    "    print(row)"
   ]
  },
  {
   "cell_type": "code",
   "execution_count": 37,
   "metadata": {},
   "outputs": [
    {
     "name": "stdout",
     "output_type": "stream",
     "text": [
      "[*********************100%***********************]  1 of 1 completed\n",
      "[*********************100%***********************]  1 of 1 completed\n"
     ]
    },
    {
     "data": {
      "text/html": [
       "<div>\n",
       "<style scoped>\n",
       "    .dataframe tbody tr th:only-of-type {\n",
       "        vertical-align: middle;\n",
       "    }\n",
       "\n",
       "    .dataframe tbody tr th {\n",
       "        vertical-align: top;\n",
       "    }\n",
       "\n",
       "    .dataframe thead th {\n",
       "        text-align: right;\n",
       "    }\n",
       "</style>\n",
       "<table border=\"1\" class=\"dataframe\">\n",
       "  <thead>\n",
       "    <tr style=\"text-align: right;\">\n",
       "      <th></th>\n",
       "      <th>Open</th>\n",
       "      <th>High</th>\n",
       "      <th>Low</th>\n",
       "      <th>Close</th>\n",
       "      <th>Adj Close</th>\n",
       "      <th>Volume</th>\n",
       "    </tr>\n",
       "    <tr>\n",
       "      <th>Date</th>\n",
       "      <th></th>\n",
       "      <th></th>\n",
       "      <th></th>\n",
       "      <th></th>\n",
       "      <th></th>\n",
       "      <th></th>\n",
       "    </tr>\n",
       "  </thead>\n",
       "  <tbody>\n",
       "    <tr>\n",
       "      <th>2018-05-04</th>\n",
       "      <td>53000.0</td>\n",
       "      <td>53900.0</td>\n",
       "      <td>51800.0</td>\n",
       "      <td>51900.0</td>\n",
       "      <td>47034.734375</td>\n",
       "      <td>39565391</td>\n",
       "    </tr>\n",
       "    <tr>\n",
       "      <th>2018-05-08</th>\n",
       "      <td>52600.0</td>\n",
       "      <td>53200.0</td>\n",
       "      <td>51900.0</td>\n",
       "      <td>52600.0</td>\n",
       "      <td>47669.113281</td>\n",
       "      <td>23104720</td>\n",
       "    </tr>\n",
       "    <tr>\n",
       "      <th>2018-05-09</th>\n",
       "      <td>52600.0</td>\n",
       "      <td>52800.0</td>\n",
       "      <td>50900.0</td>\n",
       "      <td>50900.0</td>\n",
       "      <td>46128.468750</td>\n",
       "      <td>16128305</td>\n",
       "    </tr>\n",
       "    <tr>\n",
       "      <th>2018-05-10</th>\n",
       "      <td>51700.0</td>\n",
       "      <td>51700.0</td>\n",
       "      <td>50600.0</td>\n",
       "      <td>51600.0</td>\n",
       "      <td>46762.851562</td>\n",
       "      <td>13905263</td>\n",
       "    </tr>\n",
       "    <tr>\n",
       "      <th>2018-05-11</th>\n",
       "      <td>52000.0</td>\n",
       "      <td>52200.0</td>\n",
       "      <td>51200.0</td>\n",
       "      <td>51300.0</td>\n",
       "      <td>46490.968750</td>\n",
       "      <td>10314997</td>\n",
       "    </tr>\n",
       "    <tr>\n",
       "      <th>2018-05-14</th>\n",
       "      <td>51000.0</td>\n",
       "      <td>51100.0</td>\n",
       "      <td>49900.0</td>\n",
       "      <td>50100.0</td>\n",
       "      <td>45403.468750</td>\n",
       "      <td>14909272</td>\n",
       "    </tr>\n",
       "    <tr>\n",
       "      <th>2018-05-15</th>\n",
       "      <td>50200.0</td>\n",
       "      <td>50400.0</td>\n",
       "      <td>49100.0</td>\n",
       "      <td>49200.0</td>\n",
       "      <td>44587.835938</td>\n",
       "      <td>18709146</td>\n",
       "    </tr>\n",
       "    <tr>\n",
       "      <th>2018-05-16</th>\n",
       "      <td>49200.0</td>\n",
       "      <td>50200.0</td>\n",
       "      <td>49150.0</td>\n",
       "      <td>49850.0</td>\n",
       "      <td>45176.902344</td>\n",
       "      <td>15918683</td>\n",
       "    </tr>\n",
       "    <tr>\n",
       "      <th>2018-05-17</th>\n",
       "      <td>50300.0</td>\n",
       "      <td>50500.0</td>\n",
       "      <td>49400.0</td>\n",
       "      <td>49400.0</td>\n",
       "      <td>44769.093750</td>\n",
       "      <td>10365440</td>\n",
       "    </tr>\n",
       "    <tr>\n",
       "      <th>2018-05-18</th>\n",
       "      <td>49900.0</td>\n",
       "      <td>49900.0</td>\n",
       "      <td>49350.0</td>\n",
       "      <td>49500.0</td>\n",
       "      <td>44859.707031</td>\n",
       "      <td>6706570</td>\n",
       "    </tr>\n",
       "  </tbody>\n",
       "</table>\n",
       "</div>"
      ],
      "text/plain": [
       "               Open     High      Low    Close     Adj Close    Volume\n",
       "Date                                                                  \n",
       "2018-05-04  53000.0  53900.0  51800.0  51900.0  47034.734375  39565391\n",
       "2018-05-08  52600.0  53200.0  51900.0  52600.0  47669.113281  23104720\n",
       "2018-05-09  52600.0  52800.0  50900.0  50900.0  46128.468750  16128305\n",
       "2018-05-10  51700.0  51700.0  50600.0  51600.0  46762.851562  13905263\n",
       "2018-05-11  52000.0  52200.0  51200.0  51300.0  46490.968750  10314997\n",
       "2018-05-14  51000.0  51100.0  49900.0  50100.0  45403.468750  14909272\n",
       "2018-05-15  50200.0  50400.0  49100.0  49200.0  44587.835938  18709146\n",
       "2018-05-16  49200.0  50200.0  49150.0  49850.0  45176.902344  15918683\n",
       "2018-05-17  50300.0  50500.0  49400.0  49400.0  44769.093750  10365440\n",
       "2018-05-18  49900.0  49900.0  49350.0  49500.0  44859.707031   6706570"
      ]
     },
     "execution_count": 37,
     "metadata": {},
     "output_type": "execute_result"
    }
   ],
   "source": [
    "# fetch yahoo finance data\n",
    "from pandas_datareader import data as pdr\n",
    "import yfinance as yf\n",
    "yf.pdr_override() # use pandas datareader\n",
    "\n",
    "sec = pdr.get_data_yahoo('005930.KS', start='2018-05-04')\n",
    "msft = pdr.get_data_yahoo('MSFT', start='2018-05-04')\n",
    "\n",
    "sec.head(10)"
   ]
  },
  {
   "cell_type": "code",
   "execution_count": 38,
   "metadata": {},
   "outputs": [
    {
     "data": {
      "image/png": "[encoded data removed]",
      "text/plain": [
       "<Figure size 432x288 with 1 Axes>"
      ]
     },
     "metadata": {
      "needs_background": "light"
     },
     "output_type": "display_data"
    }
   ],
   "source": [
    "# Comparison of SEC and MSFT stock price\n",
    "plt.plot(sec.index, sec.Close, 'b', label='SEC')\n",
    "plt.plot(msft.index, msft.Close, 'r--', label='MS')\n",
    "plt.legend(loc='best') # 적절한 위치에 범례 생성\n",
    "plt.show()"
   ]
  },
  {
   "cell_type": "code",
   "execution_count": 39,
   "metadata": {},
   "outputs": [
    {
     "data": {
      "text/plain": [
       "Date\n",
       "2018-05-04    0.000000\n",
       "2018-05-08    1.348748\n",
       "2018-05-09   -3.231939\n",
       "2018-05-10    1.375246\n",
       "2018-05-11   -0.581395\n",
       "                ...   \n",
       "2021-03-02    1.333333\n",
       "2021-03-03    0.478469\n",
       "2021-03-04   -1.904762\n",
       "2021-03-05   -0.364078\n",
       "2021-03-08   -0.121803\n",
       "Name: Close, Length: 695, dtype: float64"
      ]
     },
     "execution_count": 39,
     "metadata": {},
     "output_type": "execute_result"
    }
   ],
   "source": [
    "# Get daily percent change (일일 변동률)\n",
    "sec_dpc = (sec['Close'] / sec['Close'].shift(1) - 1) * 100\n",
    "sec_dpc.iloc[0] = 0\n",
    "sec_dpc"
   ]
  },
  {
   "cell_type": "code",
   "execution_count": 40,
   "metadata": {},
   "outputs": [
    {
     "data": {
      "text/plain": [
       "[<matplotlib.lines.Line2D at 0x1a138259b20>]"
      ]
     },
     "execution_count": 40,
     "metadata": {},
     "output_type": "execute_result"
    },
    {
     "data": {
      "image/png": "[encoded data removed]",
      "text/plain": [
       "<Figure size 432x288 with 1 Axes>"
      ]
     },
     "metadata": {
      "needs_background": "light"
     },
     "output_type": "display_data"
    }
   ],
   "source": [
    "# Get graph\n",
    "plt.plot(sec_dpc, 'r')"
   ]
  },
  {
   "cell_type": "code",
   "execution_count": 41,
   "metadata": {},
   "outputs": [
    {
     "data": {
      "image/png": "[encoded data removed]",
      "text/plain": [
       "<Figure size 432x288 with 1 Axes>"
      ]
     },
     "metadata": {
      "needs_background": "light"
     },
     "output_type": "display_data"
    }
   ],
   "source": [
    "# histogram of frequence distribution (변동률 분포)\n",
    "plt.hist(sec_dpc, bins=18)\n",
    "plt.grid(True)\n",
    "plt.show()"
   ]
  },
  {
   "cell_type": "code",
   "execution_count": 42,
   "metadata": {},
   "outputs": [
    {
     "data": {
      "text/plain": [
       "Date\n",
       "2018-05-04     0.000000\n",
       "2018-05-08     1.348748\n",
       "2018-05-09    -1.883192\n",
       "2018-05-10    -0.507946\n",
       "2018-05-11    -1.089341\n",
       "                ...    \n",
       "2021-03-02    58.612062\n",
       "2021-03-03    59.090531\n",
       "2021-03-04    57.185769\n",
       "2021-03-05    56.821691\n",
       "2021-03-08    56.699889\n",
       "Name: Close, Length: 695, dtype: float64"
      ]
     },
     "execution_count": 42,
     "metadata": {},
     "output_type": "execute_result"
    }
   ],
   "source": [
    "# daily percent change cummulative sum (일간 변동 누적 합)\n",
    "sec_dpc_cs = sec_dpc.cumsum()\n",
    "sec_dpc_cs"
   ]
  },
  {
   "cell_type": "code",
   "execution_count": 43,
   "metadata": {},
   "outputs": [
    {
     "data": {
      "text/plain": [
       "Date\n",
       "2018-05-03      0.000000\n",
       "2018-05-04      1.158716\n",
       "2018-05-07      2.272627\n",
       "2018-05-08      1.846516\n",
       "2018-05-09      3.025939\n",
       "                 ...    \n",
       "2021-03-01    106.953864\n",
       "2021-03-02    105.658175\n",
       "2021-03-03    102.960095\n",
       "2021-03-04    102.595356\n",
       "2021-03-05    104.743290\n",
       "Name: Close, Length: 715, dtype: float64"
      ]
     },
     "execution_count": 43,
     "metadata": {},
     "output_type": "execute_result"
    }
   ],
   "source": [
    "# dpc cs of MSFT\n",
    "msft_dpc = (msft['Close'] / msft['Close'].shift(1) - 1) * 100\n",
    "msft_dpc.iloc[0] = 0;\n",
    "\n",
    "msft_dpc_cs = msft_dpc.cumsum()\n",
    "msft_dpc_cs"
   ]
  },
  {
   "cell_type": "code",
   "execution_count": 44,
   "metadata": {},
   "outputs": [
    {
     "data": {
      "image/png": "[encoded data removed]",
      "text/plain": [
       "<Figure size 432x288 with 1 Axes>"
      ]
     },
     "metadata": {
      "needs_background": "light"
     },
     "output_type": "display_data"
    }
   ],
   "source": [
    "# Comparison with SEC and MSFT\n",
    "\n",
    "plt.plot(sec.index, sec_dpc_cs, 'b', label='SEC')\n",
    "plt.plot(msft.index, msft_dpc_cs, 'r', label='MSFT')\n",
    "plt.ylabel('Change %')\n",
    "plt.grid(True)\n",
    "plt.legend(loc='best')\n",
    "plt.show()"
   ]
  },
  {
   "cell_type": "markdown",
   "metadata": {},
   "source": [
    "### 위의 분석에 관한 질문\n",
    "\n",
    "Change rate 에 관해 cummulative sum 을 한 연산인데 그렇다면 복리의 법칙이 고려되지 않지 않나??"
   ]
  },
  {
   "cell_type": "code",
   "execution_count": 45,
   "metadata": {},
   "outputs": [
    {
     "name": "stdout",
     "output_type": "stream",
     "text": [
      "[*********************100%***********************]  1 of 1 completed\n"
     ]
    },
    {
     "data": {
      "text/html": [
       "<div>\n",
       "<style scoped>\n",
       "    .dataframe tbody tr th:only-of-type {\n",
       "        vertical-align: middle;\n",
       "    }\n",
       "\n",
       "    .dataframe tbody tr th {\n",
       "        vertical-align: top;\n",
       "    }\n",
       "\n",
       "    .dataframe thead th {\n",
       "        text-align: right;\n",
       "    }\n",
       "</style>\n",
       "<table border=\"1\" class=\"dataframe\">\n",
       "  <thead>\n",
       "    <tr style=\"text-align: right;\">\n",
       "      <th></th>\n",
       "      <th>Open</th>\n",
       "      <th>High</th>\n",
       "      <th>Low</th>\n",
       "      <th>Close</th>\n",
       "      <th>Adj Close</th>\n",
       "      <th>Volume</th>\n",
       "    </tr>\n",
       "    <tr>\n",
       "      <th>Date</th>\n",
       "      <th></th>\n",
       "      <th></th>\n",
       "      <th></th>\n",
       "      <th></th>\n",
       "      <th></th>\n",
       "      <th></th>\n",
       "    </tr>\n",
       "  </thead>\n",
       "  <tbody>\n",
       "    <tr>\n",
       "      <th>2004-01-05</th>\n",
       "      <td>817.280029</td>\n",
       "      <td>825.429993</td>\n",
       "      <td>816.549988</td>\n",
       "      <td>824.099976</td>\n",
       "      <td>824.099976</td>\n",
       "      <td>408300</td>\n",
       "    </tr>\n",
       "    <tr>\n",
       "      <th>2004-01-06</th>\n",
       "      <td>831.260010</td>\n",
       "      <td>831.260010</td>\n",
       "      <td>819.530029</td>\n",
       "      <td>823.429993</td>\n",
       "      <td>823.429993</td>\n",
       "      <td>484100</td>\n",
       "    </tr>\n",
       "    <tr>\n",
       "      <th>2004-01-07</th>\n",
       "      <td>826.080017</td>\n",
       "      <td>831.070007</td>\n",
       "      <td>825.229980</td>\n",
       "      <td>827.070007</td>\n",
       "      <td>827.070007</td>\n",
       "      <td>404600</td>\n",
       "    </tr>\n",
       "    <tr>\n",
       "      <th>2004-01-08</th>\n",
       "      <td>831.099976</td>\n",
       "      <td>839.280029</td>\n",
       "      <td>824.150024</td>\n",
       "      <td>824.150024</td>\n",
       "      <td>824.150024</td>\n",
       "      <td>428800</td>\n",
       "    </tr>\n",
       "    <tr>\n",
       "      <th>2004-01-09</th>\n",
       "      <td>835.419983</td>\n",
       "      <td>849.500000</td>\n",
       "      <td>835.049988</td>\n",
       "      <td>845.270020</td>\n",
       "      <td>845.270020</td>\n",
       "      <td>543300</td>\n",
       "    </tr>\n",
       "    <tr>\n",
       "      <th>...</th>\n",
       "      <td>...</td>\n",
       "      <td>...</td>\n",
       "      <td>...</td>\n",
       "      <td>...</td>\n",
       "      <td>...</td>\n",
       "      <td>...</td>\n",
       "    </tr>\n",
       "    <tr>\n",
       "      <th>2021-03-02</th>\n",
       "      <td>3021.679932</td>\n",
       "      <td>3096.500000</td>\n",
       "      <td>3020.739990</td>\n",
       "      <td>3043.870117</td>\n",
       "      <td>3043.870117</td>\n",
       "      <td>1749900</td>\n",
       "    </tr>\n",
       "    <tr>\n",
       "      <th>2021-03-03</th>\n",
       "      <td>3041.199951</td>\n",
       "      <td>3083.040039</td>\n",
       "      <td>3029.370117</td>\n",
       "      <td>3082.989990</td>\n",
       "      <td>3082.989990</td>\n",
       "      <td>2236700</td>\n",
       "    </tr>\n",
       "    <tr>\n",
       "      <th>2021-03-04</th>\n",
       "      <td>3076.879883</td>\n",
       "      <td>3076.879883</td>\n",
       "      <td>3022.540039</td>\n",
       "      <td>3043.489990</td>\n",
       "      <td>3043.489990</td>\n",
       "      <td>1279000</td>\n",
       "    </tr>\n",
       "    <tr>\n",
       "      <th>2021-03-05</th>\n",
       "      <td>3036.159912</td>\n",
       "      <td>3036.979980</td>\n",
       "      <td>2982.449951</td>\n",
       "      <td>3026.260010</td>\n",
       "      <td>3026.260010</td>\n",
       "      <td>1187200</td>\n",
       "    </tr>\n",
       "    <tr>\n",
       "      <th>2021-03-08</th>\n",
       "      <td>3031.989990</td>\n",
       "      <td>3055.649902</td>\n",
       "      <td>3010.469971</td>\n",
       "      <td>3014.909912</td>\n",
       "      <td>3014.909912</td>\n",
       "      <td>1086922</td>\n",
       "    </tr>\n",
       "  </tbody>\n",
       "</table>\n",
       "<p>4239 rows × 6 columns</p>\n",
       "</div>"
      ],
      "text/plain": [
       "                   Open         High          Low        Close    Adj Close  \\\n",
       "Date                                                                          \n",
       "2004-01-05   817.280029   825.429993   816.549988   824.099976   824.099976   \n",
       "2004-01-06   831.260010   831.260010   819.530029   823.429993   823.429993   \n",
       "2004-01-07   826.080017   831.070007   825.229980   827.070007   827.070007   \n",
       "2004-01-08   831.099976   839.280029   824.150024   824.150024   824.150024   \n",
       "2004-01-09   835.419983   849.500000   835.049988   845.270020   845.270020   \n",
       "...                 ...          ...          ...          ...          ...   \n",
       "2021-03-02  3021.679932  3096.500000  3020.739990  3043.870117  3043.870117   \n",
       "2021-03-03  3041.199951  3083.040039  3029.370117  3082.989990  3082.989990   \n",
       "2021-03-04  3076.879883  3076.879883  3022.540039  3043.489990  3043.489990   \n",
       "2021-03-05  3036.159912  3036.979980  2982.449951  3026.260010  3026.260010   \n",
       "2021-03-08  3031.989990  3055.649902  3010.469971  3014.909912  3014.909912   \n",
       "\n",
       "             Volume  \n",
       "Date                 \n",
       "2004-01-05   408300  \n",
       "2004-01-06   484100  \n",
       "2004-01-07   404600  \n",
       "2004-01-08   428800  \n",
       "2004-01-09   543300  \n",
       "...             ...  \n",
       "2021-03-02  1749900  \n",
       "2021-03-03  2236700  \n",
       "2021-03-04  1279000  \n",
       "2021-03-05  1187200  \n",
       "2021-03-08  1086922  \n",
       "\n",
       "[4239 rows x 6 columns]"
      ]
     },
     "execution_count": 45,
     "metadata": {},
     "output_type": "execute_result"
    }
   ],
   "source": [
    "kospi = pdr.get_data_yahoo('^KS11', '2004-01-04')\n",
    "kospi"
   ]
  },
  {
   "cell_type": "markdown",
   "metadata": {},
   "source": [
    "### MDD (Maximum drawdown, 최대 손식 낙폭)\n",
    "\n",
    "특정 기간에 발생한 최고점에서 최저점까지의 가장 큰 손실을 의미한다. \n",
    "(퀀트 투자에서는 수익률을 높이는 것보다 MDD 를 낮추는 것이 더 낫다고 한다.)"
   ]
  },
  {
   "cell_type": "code",
   "execution_count": 46,
   "metadata": {},
   "outputs": [
    {
     "data": {
      "text/plain": [
       "Date\n",
       "2004-01-05    0.000000\n",
       "2004-01-06   -0.000813\n",
       "2004-01-07    0.000000\n",
       "2004-01-08   -0.003531\n",
       "2004-01-09    0.000000\n",
       "                ...   \n",
       "2021-03-02   -0.051455\n",
       "2021-03-03   -0.039265\n",
       "2021-03-04   -0.051574\n",
       "2021-03-05   -0.056943\n",
       "2021-03-08   -0.060480\n",
       "Name: Adj Close, Length: 4239, dtype: float64"
      ]
     },
     "execution_count": 46,
     "metadata": {},
     "output_type": "execute_result"
    }
   ],
   "source": [
    "# Calculate MDD with rolling 1\n",
    "\n",
    "window = 252 # window 는 한번에 분석한 데이터의 크기이다. (CNN 공부할때 kernel size 를 상상하면 됨)\n",
    "peak = kospi['Adj Close'].rolling(window, min_periods=1).max() \n",
    "drawdown = kospi['Adj Close']/peak - 1.0\n",
    "\n",
    "drawdown # 52주 peak 대비 낙폭"
   ]
  },
  {
   "cell_type": "code",
   "execution_count": 47,
   "metadata": {},
   "outputs": [
    {
     "data": {
      "text/plain": [
       "Date\n",
       "2004-01-05    0.000000\n",
       "2004-01-06   -0.000813\n",
       "2004-01-07   -0.000813\n",
       "2004-01-08   -0.003531\n",
       "2004-01-09   -0.003531\n",
       "                ...   \n",
       "2021-03-02   -0.357089\n",
       "2021-03-03   -0.357089\n",
       "2021-03-04   -0.357089\n",
       "2021-03-05   -0.357089\n",
       "2021-03-08   -0.357089\n",
       "Name: Adj Close, Length: 4239, dtype: float64"
      ]
     },
     "execution_count": 47,
     "metadata": {},
     "output_type": "execute_result"
    }
   ],
   "source": [
    "# Calculate MDD with rolling 2\n",
    "\n",
    "max_dd = drawdown.rolling(window, min_periods=1).min()\n",
    "max_dd"
   ]
  },
  {
   "cell_type": "code",
   "execution_count": 48,
   "metadata": {},
   "outputs": [
    {
     "data": {
      "image/png": "[encoded data removed]",
      "text/plain": [
       "<Figure size 432x288 with 2 Axes>"
      ]
     },
     "metadata": {
      "needs_background": "light"
     },
     "output_type": "display_data"
    }
   ],
   "source": [
    "plt.subplot(211)\n",
    "kospi['Close'].plot(label='KOSPI', title='KOSPI MDD', grid=True, legend=True)\n",
    "plt.subplot(212)\n",
    "drawdown.plot(c='b', label='KOSPI DD', grid=True, legend=True)\n",
    "max_dd.plot(c='r', label='KOSPI MDD', grid=True, legend=True)\n",
    "plt.show()"
   ]
  },
  {
   "cell_type": "code",
   "execution_count": 49,
   "metadata": {},
   "outputs": [
    {
     "data": {
      "text/plain": [
       "-0.5453665130144085"
      ]
     },
     "execution_count": 49,
     "metadata": {},
     "output_type": "execute_result"
    }
   ],
   "source": [
    "# 정확한 MDD 구하기\n",
    "max_dd.min()"
   ]
  },
  {
   "cell_type": "code",
   "execution_count": 50,
   "metadata": {},
   "outputs": [
    {
     "data": {
      "text/plain": [
       "Date\n",
       "2008-10-24   -0.545367\n",
       "2008-10-27   -0.545367\n",
       "2008-10-28   -0.545367\n",
       "2008-10-29   -0.545367\n",
       "2008-10-30   -0.545367\n",
       "                ...   \n",
       "2009-10-16   -0.545367\n",
       "2009-10-19   -0.545367\n",
       "2009-10-20   -0.545367\n",
       "2009-10-21   -0.545367\n",
       "2009-10-22   -0.545367\n",
       "Name: Adj Close, Length: 252, dtype: float64"
      ]
     },
     "execution_count": 50,
     "metadata": {},
     "output_type": "execute_result"
    }
   ],
   "source": [
    "# MDD 기록한 기간은?\n",
    "max_dd[max_dd==-0.5453665130144085]"
   ]
  },
  {
   "cell_type": "markdown",
   "metadata": {},
   "source": [
    "## 회귀분석과 상관관계\n",
    "\n",
    "`y = px` 독립변수 x 와 종속변수 y 의 관계를 구하기 위한 방법임."
   ]
  },
  {
   "cell_type": "code",
   "execution_count": 51,
   "metadata": {},
   "outputs": [
    {
     "name": "stdout",
     "output_type": "stream",
     "text": [
      "[*********************100%***********************]  1 of 1 completed\n",
      "[*********************100%***********************]  1 of 1 completed\n"
     ]
    },
    {
     "data": {
      "image/png": "[encoded data removed]",
      "text/plain": [
       "<Figure size 648x360 with 1 Axes>"
      ]
     },
     "metadata": {
      "needs_background": "light"
     },
     "output_type": "display_data"
    }
   ],
   "source": [
    "# Analyze correlation within DowJohns and KOSPI\n",
    "\n",
    "from pandas_datareader import data as pdr\n",
    "import yfinance as yf\n",
    "yf.pdr_override()\n",
    "\n",
    "dow = pdr.get_data_yahoo('^DJI', '2000-01-04')\n",
    "kospi = pdr.get_data_yahoo('^KS11', '2000-01-04')\n",
    "\n",
    "import matplotlib.pyplot as plt\n",
    "plt.figure(figsize=(9, 5))\n",
    "plt.plot(dow.index, dow.Close, 'r', label='Dow Johns')\n",
    "plt.plot(kospi.index, kospi.Close, 'b', label='KOSPI')\n",
    "plt.grid(True)\n",
    "plt.legend(loc='best')\n",
    "plt.show()\n",
    "\n",
    "# 둘의 차이가 너무 심함."
   ]
  },
  {
   "cell_type": "code",
   "execution_count": 52,
   "metadata": {},
   "outputs": [
    {
     "data": {
      "image/png": "[encoded data removed]",
      "text/plain": [
       "<Figure size 648x360 with 1 Axes>"
      ]
     },
     "metadata": {
      "needs_background": "light"
     },
     "output_type": "display_data"
    }
   ],
   "source": [
    "# 지수화 비교\n",
    "d = (dow.Close / dow.Close.iloc[0])*100 # 지수화\n",
    "k = (kospi.Close / kospi.Close.iloc[0])*100 # 지수화\n",
    "\n",
    "plt.figure(figsize=(9, 5))\n",
    "plt.plot(d.index, d, 'r', label='Dow Johns')\n",
    "plt.plot(k.index, k, 'b', label='KOSPI')\n",
    "plt.grid(True)\n",
    "plt.legend(loc='best')\n",
    "plt.show()"
   ]
  },
  {
   "cell_type": "markdown",
   "metadata": {},
   "source": [
    "### 산점도 분석 (Scatter plot)\n",
    "\n",
    "독립변수 X 와 종속변수 Y 의 상관관례를 분석하기 위한 그래프이다. 가로축은 X 세로축은 Y를 나타낸다."
   ]
  },
  {
   "cell_type": "code",
   "execution_count": 53,
   "metadata": {},
   "outputs": [
    {
     "data": {
      "text/html": [
       "<div>\n",
       "<style scoped>\n",
       "    .dataframe tbody tr th:only-of-type {\n",
       "        vertical-align: middle;\n",
       "    }\n",
       "\n",
       "    .dataframe tbody tr th {\n",
       "        vertical-align: top;\n",
       "    }\n",
       "\n",
       "    .dataframe thead th {\n",
       "        text-align: right;\n",
       "    }\n",
       "</style>\n",
       "<table border=\"1\" class=\"dataframe\">\n",
       "  <thead>\n",
       "    <tr style=\"text-align: right;\">\n",
       "      <th></th>\n",
       "      <th>DOW</th>\n",
       "      <th>KOSPI</th>\n",
       "    </tr>\n",
       "    <tr>\n",
       "      <th>Date</th>\n",
       "      <th></th>\n",
       "      <th></th>\n",
       "    </tr>\n",
       "  </thead>\n",
       "  <tbody>\n",
       "    <tr>\n",
       "      <th>2000-01-03</th>\n",
       "      <td>11357.509766</td>\n",
       "      <td>NaN</td>\n",
       "    </tr>\n",
       "    <tr>\n",
       "      <th>2000-01-04</th>\n",
       "      <td>10997.929688</td>\n",
       "      <td>1059.040039</td>\n",
       "    </tr>\n",
       "    <tr>\n",
       "      <th>2000-01-05</th>\n",
       "      <td>11122.650391</td>\n",
       "      <td>986.309998</td>\n",
       "    </tr>\n",
       "    <tr>\n",
       "      <th>2000-01-06</th>\n",
       "      <td>11253.259766</td>\n",
       "      <td>960.789978</td>\n",
       "    </tr>\n",
       "    <tr>\n",
       "      <th>2000-01-07</th>\n",
       "      <td>11522.559570</td>\n",
       "      <td>948.650024</td>\n",
       "    </tr>\n",
       "    <tr>\n",
       "      <th>...</th>\n",
       "      <td>...</td>\n",
       "      <td>...</td>\n",
       "    </tr>\n",
       "    <tr>\n",
       "      <th>2021-03-02</th>\n",
       "      <td>31391.519531</td>\n",
       "      <td>3043.870117</td>\n",
       "    </tr>\n",
       "    <tr>\n",
       "      <th>2021-03-03</th>\n",
       "      <td>31270.089844</td>\n",
       "      <td>3082.989990</td>\n",
       "    </tr>\n",
       "    <tr>\n",
       "      <th>2021-03-04</th>\n",
       "      <td>30924.140625</td>\n",
       "      <td>3043.489990</td>\n",
       "    </tr>\n",
       "    <tr>\n",
       "      <th>2021-03-05</th>\n",
       "      <td>31496.300781</td>\n",
       "      <td>3026.260010</td>\n",
       "    </tr>\n",
       "    <tr>\n",
       "      <th>2021-03-08</th>\n",
       "      <td>NaN</td>\n",
       "      <td>3014.909912</td>\n",
       "    </tr>\n",
       "  </tbody>\n",
       "</table>\n",
       "<p>5489 rows × 2 columns</p>\n",
       "</div>"
      ],
      "text/plain": [
       "                     DOW        KOSPI\n",
       "Date                                 \n",
       "2000-01-03  11357.509766          NaN\n",
       "2000-01-04  10997.929688  1059.040039\n",
       "2000-01-05  11122.650391   986.309998\n",
       "2000-01-06  11253.259766   960.789978\n",
       "2000-01-07  11522.559570   948.650024\n",
       "...                  ...          ...\n",
       "2021-03-02  31391.519531  3043.870117\n",
       "2021-03-03  31270.089844  3082.989990\n",
       "2021-03-04  30924.140625  3043.489990\n",
       "2021-03-05  31496.300781  3026.260010\n",
       "2021-03-08           NaN  3014.909912\n",
       "\n",
       "[5489 rows x 2 columns]"
      ]
     },
     "execution_count": 53,
     "metadata": {},
     "output_type": "execute_result"
    }
   ],
   "source": [
    "# 산점도 분석 1\n",
    "\n",
    "df = pd.DataFrame({'DOW': dow['Close'], 'KOSPI': kospi['Close']})\n",
    "df\n",
    "\n",
    "# 데이터의 길이가 다르고 비어있는 곳이 NaN 으로 처리된다."
   ]
  },
  {
   "cell_type": "code",
   "execution_count": 54,
   "metadata": {},
   "outputs": [
    {
     "data": {
      "text/html": [
       "<div>\n",
       "<style scoped>\n",
       "    .dataframe tbody tr th:only-of-type {\n",
       "        vertical-align: middle;\n",
       "    }\n",
       "\n",
       "    .dataframe tbody tr th {\n",
       "        vertical-align: top;\n",
       "    }\n",
       "\n",
       "    .dataframe thead th {\n",
       "        text-align: right;\n",
       "    }\n",
       "</style>\n",
       "<table border=\"1\" class=\"dataframe\">\n",
       "  <thead>\n",
       "    <tr style=\"text-align: right;\">\n",
       "      <th></th>\n",
       "      <th>DOW</th>\n",
       "      <th>KOSPI</th>\n",
       "    </tr>\n",
       "    <tr>\n",
       "      <th>Date</th>\n",
       "      <th></th>\n",
       "      <th></th>\n",
       "    </tr>\n",
       "  </thead>\n",
       "  <tbody>\n",
       "    <tr>\n",
       "      <th>2000-01-03</th>\n",
       "      <td>11357.509766</td>\n",
       "      <td>1059.040039</td>\n",
       "    </tr>\n",
       "    <tr>\n",
       "      <th>2000-01-04</th>\n",
       "      <td>10997.929688</td>\n",
       "      <td>1059.040039</td>\n",
       "    </tr>\n",
       "    <tr>\n",
       "      <th>2000-01-05</th>\n",
       "      <td>11122.650391</td>\n",
       "      <td>986.309998</td>\n",
       "    </tr>\n",
       "    <tr>\n",
       "      <th>2000-01-06</th>\n",
       "      <td>11253.259766</td>\n",
       "      <td>960.789978</td>\n",
       "    </tr>\n",
       "    <tr>\n",
       "      <th>2000-01-07</th>\n",
       "      <td>11522.559570</td>\n",
       "      <td>948.650024</td>\n",
       "    </tr>\n",
       "    <tr>\n",
       "      <th>...</th>\n",
       "      <td>...</td>\n",
       "      <td>...</td>\n",
       "    </tr>\n",
       "    <tr>\n",
       "      <th>2021-03-02</th>\n",
       "      <td>31391.519531</td>\n",
       "      <td>3043.870117</td>\n",
       "    </tr>\n",
       "    <tr>\n",
       "      <th>2021-03-03</th>\n",
       "      <td>31270.089844</td>\n",
       "      <td>3082.989990</td>\n",
       "    </tr>\n",
       "    <tr>\n",
       "      <th>2021-03-04</th>\n",
       "      <td>30924.140625</td>\n",
       "      <td>3043.489990</td>\n",
       "    </tr>\n",
       "    <tr>\n",
       "      <th>2021-03-05</th>\n",
       "      <td>31496.300781</td>\n",
       "      <td>3026.260010</td>\n",
       "    </tr>\n",
       "    <tr>\n",
       "      <th>2021-03-08</th>\n",
       "      <td>31496.300781</td>\n",
       "      <td>3014.909912</td>\n",
       "    </tr>\n",
       "  </tbody>\n",
       "</table>\n",
       "<p>5489 rows × 2 columns</p>\n",
       "</div>"
      ],
      "text/plain": [
       "                     DOW        KOSPI\n",
       "Date                                 \n",
       "2000-01-03  11357.509766  1059.040039\n",
       "2000-01-04  10997.929688  1059.040039\n",
       "2000-01-05  11122.650391   986.309998\n",
       "2000-01-06  11253.259766   960.789978\n",
       "2000-01-07  11522.559570   948.650024\n",
       "...                  ...          ...\n",
       "2021-03-02  31391.519531  3043.870117\n",
       "2021-03-03  31270.089844  3082.989990\n",
       "2021-03-04  30924.140625  3043.489990\n",
       "2021-03-05  31496.300781  3026.260010\n",
       "2021-03-08  31496.300781  3014.909912\n",
       "\n",
       "[5489 rows x 2 columns]"
      ]
     },
     "execution_count": 54,
     "metadata": {},
     "output_type": "execute_result"
    }
   ],
   "source": [
    "# 산점도 분석 2\n",
    "\n",
    "df = df.fillna(method='bfill') # bfill means backfill you can use ffill\n",
    "df = df.fillna(method='ffill')\n",
    "df = df.dropna() # NaN 부분 drop\n",
    "df"
   ]
  },
  {
   "cell_type": "code",
   "execution_count": 55,
   "metadata": {},
   "outputs": [
    {
     "data": {
      "image/png": "[encoded data removed]",
      "text/plain": [
       "<Figure size 504x504 with 1 Axes>"
      ]
     },
     "metadata": {
      "needs_background": "light"
     },
     "output_type": "display_data"
    }
   ],
   "source": [
    "plt.figure(figsize=(7,7))\n",
    "plt.scatter(df['DOW'], df['KOSPI'], marker='.')\n",
    "plt.xlabel('Dow')\n",
    "plt.ylabel('KOSPI')\n",
    "plt.show()"
   ]
  },
  {
   "cell_type": "markdown",
   "metadata": {},
   "source": [
    "y = x 그래프에 가까울수록 더 큰 상관관계를 갖음."
   ]
  },
  {
   "cell_type": "markdown",
   "metadata": {},
   "source": [
    "### Scipy선형회귀분석\n",
    "\n",
    "선형회귀 모델\n",
    "\n",
    "`Y = b0 + b1X + e`\n",
    "\n",
    "|name|val|\n",
    "|-|-|\n",
    "|intercept|b0|\n",
    "|slope|b1|"
   ]
  },
  {
   "cell_type": "code",
   "execution_count": 56,
   "metadata": {},
   "outputs": [
    {
     "data": {
      "text/plain": [
       "LinregressResult(slope=0.07792038492009487, intercept=444.3245664937738, rvalue=0.7707110994817147, pvalue=0.0, stderr=0.0008696757617987818)"
      ]
     },
     "execution_count": 56,
     "metadata": {},
     "output_type": "execute_result"
    }
   ],
   "source": [
    "from scipy import stats\n",
    "\n",
    "# get linear regression analysis\n",
    "regr = stats.linregress(df['DOW'], df['KOSPI'])\n",
    "regr"
   ]
  },
  {
   "cell_type": "markdown",
   "metadata": {},
   "source": [
    "### 상관계수 분석하기\n",
    "\n",
    "독립변수와 종속변수 사이의 상관관계의 정도를 나타내는 수치이다.\n",
    "상관계수 r 은 `-1 <= r <= 1` 이다."
   ]
  },
  {
   "cell_type": "code",
   "execution_count": 57,
   "metadata": {},
   "outputs": [
    {
     "data": {
      "text/html": [
       "<div>\n",
       "<style scoped>\n",
       "    .dataframe tbody tr th:only-of-type {\n",
       "        vertical-align: middle;\n",
       "    }\n",
       "\n",
       "    .dataframe tbody tr th {\n",
       "        vertical-align: top;\n",
       "    }\n",
       "\n",
       "    .dataframe thead th {\n",
       "        text-align: right;\n",
       "    }\n",
       "</style>\n",
       "<table border=\"1\" class=\"dataframe\">\n",
       "  <thead>\n",
       "    <tr style=\"text-align: right;\">\n",
       "      <th></th>\n",
       "      <th>DOW</th>\n",
       "      <th>KOSPI</th>\n",
       "    </tr>\n",
       "  </thead>\n",
       "  <tbody>\n",
       "    <tr>\n",
       "      <th>DOW</th>\n",
       "      <td>1.000000</td>\n",
       "      <td>0.770711</td>\n",
       "    </tr>\n",
       "    <tr>\n",
       "      <th>KOSPI</th>\n",
       "      <td>0.770711</td>\n",
       "      <td>1.000000</td>\n",
       "    </tr>\n",
       "  </tbody>\n",
       "</table>\n",
       "</div>"
      ],
      "text/plain": [
       "            DOW     KOSPI\n",
       "DOW    1.000000  0.770711\n",
       "KOSPI  0.770711  1.000000"
      ]
     },
     "execution_count": 57,
     "metadata": {},
     "output_type": "execute_result"
    }
   ],
   "source": [
    "# get coefficient of correlation\n",
    "df.corr()"
   ]
  },
  {
   "cell_type": "code",
   "execution_count": 58,
   "metadata": {},
   "outputs": [
    {
     "data": {
      "text/plain": [
       "0.7707110994817147"
      ]
     },
     "execution_count": 58,
     "metadata": {},
     "output_type": "execute_result"
    }
   ],
   "source": [
    "# get coefficient of correlation with series\n",
    "\n",
    "df['DOW'].corr(df['KOSPI'])"
   ]
  },
  {
   "cell_type": "code",
   "execution_count": 59,
   "metadata": {},
   "outputs": [
    {
     "data": {
      "text/plain": [
       "0.5939955988643135"
      ]
     },
     "execution_count": 59,
     "metadata": {},
     "output_type": "execute_result"
    }
   ],
   "source": [
    "# get R squad\n",
    "\n",
    "r_squad = df['DOW'].corr(df['KOSPI']) ** 2\n",
    "r_squad"
   ]
  },
  {
   "cell_type": "code",
   "execution_count": 60,
   "metadata": {},
   "outputs": [
    {
     "name": "stdout",
     "output_type": "stream",
     "text": [
      "[*********************100%***********************]  1 of 1 completed\n",
      "[*********************100%***********************]  1 of 1 completed\n"
     ]
    },
    {
     "data": {
      "image/png": "[encoded data removed]",
      "text/plain": [
       "<Figure size 504x504 with 1 Axes>"
      ]
     },
     "metadata": {
      "needs_background": "light"
     },
     "output_type": "display_data"
    }
   ],
   "source": [
    "import pandas as pd\n",
    "from pandas_datareader import data as pdr\n",
    "import yfinance as yf\n",
    "yf.pdr_override()\n",
    "from scipy import stats\n",
    "import matplotlib.pylab as plt\n",
    "\n",
    "dow = pdr.get_data_yahoo('^DJI', '2000-01-04')   \n",
    "kospi = pdr.get_data_yahoo('^KS11', '2000-01-04')\n",
    "\n",
    "df = pd.DataFrame({'X':dow['Close'], 'Y':kospi['Close']})\n",
    "df = df.fillna(method='bfill')\n",
    "df = df.fillna(method='ffill')\n",
    "\n",
    "regr = stats.linregress(df.X, df.Y)\n",
    "regr_line = f'Y = {regr.slope:2f}  X + {regr.intercept:2f}'\n",
    "\n",
    "plt.figure(figsize=(7, 7))\n",
    "plt.plot(df.X, df.Y, '.') \n",
    "plt.plot(df.X, regr.slope * df.X + regr.intercept, 'r')\n",
    "plt.legend(['DOW x KOSPI', regr_line])\n",
    "plt.title(f'DOW x KOSPI (R = {regr.rvalue:2f})')\n",
    "plt.xlabel('Dow Jones Industrial Average')\n",
    "plt.ylabel('KOSPI')\n",
    "plt.show()\n"
   ]
  },
  {
   "cell_type": "code",
   "execution_count": 64,
   "metadata": {},
   "outputs": [
    {
     "name": "stdout",
     "output_type": "stream",
     "text": [
      "[*********************100%***********************]  1 of 1 completed\n",
      "[*********************100%***********************]  1 of 1 completed\n"
     ]
    },
    {
     "data": {
      "image/png": "[encoded data removed]",
      "text/plain": [
       "<Figure size 504x504 with 1 Axes>"
      ]
     },
     "metadata": {
      "needs_background": "light"
     },
     "output_type": "display_data"
    }
   ],
   "source": [
    "import pandas as pd\n",
    "from pandas_datareader import data as pdr\n",
    "import yfinance as yf\n",
    "yf.pdr_override()\n",
    "from scipy import stats\n",
    "import matplotlib.pylab as plt\n",
    "\n",
    "tlt = pdr.get_data_yahoo('TLT', '2000-01-04')   \n",
    "kospi = pdr.get_data_yahoo('^KS11', '2000-01-04')\n",
    "\n",
    "df = pd.DataFrame({'X':tlt['Close'], 'Y':kospi['Close']})\n",
    "df = df.fillna(method='bfill')\n",
    "df = df.fillna(method='ffill')\n",
    "\n",
    "regr = stats.linregress(df.X, df.Y)\n",
    "regr_line = f'Y = {regr.slope:2f}  X + {regr.intercept:2f}'\n",
    "\n",
    "plt.figure(figsize=(7, 7))\n",
    "plt.plot(df.X, df.Y, '.') \n",
    "plt.plot(df.X, regr.slope * df.X + regr.intercept, 'r')\n",
    "plt.legend(['TLT x KOSPI', regr_line])\n",
    "plt.title(f'TLT x KOSPI (R = {regr.rvalue:2f})')\n",
    "plt.xlabel('10 Year treasury')\n",
    "plt.ylabel('KOSPI')\n",
    "plt.show()\n"
   ]
  },
  {
   "cell_type": "code",
   "execution_count": 68,
   "metadata": {},
   "outputs": [
    {
     "data": {
      "text/html": [
       "<div>\n",
       "<style scoped>\n",
       "    .dataframe tbody tr th:only-of-type {\n",
       "        vertical-align: middle;\n",
       "    }\n",
       "\n",
       "    .dataframe tbody tr th {\n",
       "        vertical-align: top;\n",
       "    }\n",
       "\n",
       "    .dataframe thead th {\n",
       "        text-align: right;\n",
       "    }\n",
       "</style>\n",
       "<table border=\"1\" class=\"dataframe\">\n",
       "  <thead>\n",
       "    <tr style=\"text-align: right;\">\n",
       "      <th></th>\n",
       "      <th>Open</th>\n",
       "      <th>High</th>\n",
       "      <th>Low</th>\n",
       "      <th>Close</th>\n",
       "      <th>Adj Close</th>\n",
       "      <th>Volume</th>\n",
       "    </tr>\n",
       "    <tr>\n",
       "      <th>Date</th>\n",
       "      <th></th>\n",
       "      <th></th>\n",
       "      <th></th>\n",
       "      <th></th>\n",
       "      <th></th>\n",
       "      <th></th>\n",
       "    </tr>\n",
       "  </thead>\n",
       "  <tbody>\n",
       "    <tr>\n",
       "      <th>2002-07-30</th>\n",
       "      <td>81.750000</td>\n",
       "      <td>81.900002</td>\n",
       "      <td>81.519997</td>\n",
       "      <td>81.519997</td>\n",
       "      <td>42.757011</td>\n",
       "      <td>6100</td>\n",
       "    </tr>\n",
       "    <tr>\n",
       "      <th>2002-07-31</th>\n",
       "      <td>81.949997</td>\n",
       "      <td>82.800003</td>\n",
       "      <td>81.900002</td>\n",
       "      <td>82.529999</td>\n",
       "      <td>43.286724</td>\n",
       "      <td>29400</td>\n",
       "    </tr>\n",
       "    <tr>\n",
       "      <th>2002-08-01</th>\n",
       "      <td>82.540001</td>\n",
       "      <td>83.019997</td>\n",
       "      <td>82.540001</td>\n",
       "      <td>83.000000</td>\n",
       "      <td>43.533253</td>\n",
       "      <td>25000</td>\n",
       "    </tr>\n",
       "    <tr>\n",
       "      <th>2002-08-02</th>\n",
       "      <td>83.160004</td>\n",
       "      <td>84.099998</td>\n",
       "      <td>82.879997</td>\n",
       "      <td>83.849998</td>\n",
       "      <td>43.979088</td>\n",
       "      <td>52800</td>\n",
       "    </tr>\n",
       "    <tr>\n",
       "      <th>2002-08-05</th>\n",
       "      <td>84.040001</td>\n",
       "      <td>84.440002</td>\n",
       "      <td>83.849998</td>\n",
       "      <td>84.220001</td>\n",
       "      <td>44.173149</td>\n",
       "      <td>61100</td>\n",
       "    </tr>\n",
       "    <tr>\n",
       "      <th>...</th>\n",
       "      <td>...</td>\n",
       "      <td>...</td>\n",
       "      <td>...</td>\n",
       "      <td>...</td>\n",
       "      <td>...</td>\n",
       "      <td>...</td>\n",
       "    </tr>\n",
       "    <tr>\n",
       "      <th>2007-07-09</th>\n",
       "      <td>83.870003</td>\n",
       "      <td>83.930000</td>\n",
       "      <td>83.680000</td>\n",
       "      <td>83.779999</td>\n",
       "      <td>55.618404</td>\n",
       "      <td>795400</td>\n",
       "    </tr>\n",
       "    <tr>\n",
       "      <th>2007-07-11</th>\n",
       "      <td>84.949997</td>\n",
       "      <td>85.089996</td>\n",
       "      <td>84.320000</td>\n",
       "      <td>84.320000</td>\n",
       "      <td>55.976902</td>\n",
       "      <td>1191300</td>\n",
       "    </tr>\n",
       "    <tr>\n",
       "      <th>2007-07-12</th>\n",
       "      <td>84.550003</td>\n",
       "      <td>84.580002</td>\n",
       "      <td>83.870003</td>\n",
       "      <td>84.029999</td>\n",
       "      <td>55.784393</td>\n",
       "      <td>1941200</td>\n",
       "    </tr>\n",
       "    <tr>\n",
       "      <th>2007-07-13</th>\n",
       "      <td>84.449997</td>\n",
       "      <td>84.550003</td>\n",
       "      <td>83.940002</td>\n",
       "      <td>84.260002</td>\n",
       "      <td>55.937077</td>\n",
       "      <td>725900</td>\n",
       "    </tr>\n",
       "    <tr>\n",
       "      <th>2007-07-17</th>\n",
       "      <td>84.860001</td>\n",
       "      <td>85.089996</td>\n",
       "      <td>84.500000</td>\n",
       "      <td>84.889999</td>\n",
       "      <td>56.355309</td>\n",
       "      <td>734200</td>\n",
       "    </tr>\n",
       "  </tbody>\n",
       "</table>\n",
       "<p>239 rows × 6 columns</p>\n",
       "</div>"
      ],
      "text/plain": [
       "                 Open       High        Low      Close  Adj Close   Volume\n",
       "Date                                                                      \n",
       "2002-07-30  81.750000  81.900002  81.519997  81.519997  42.757011     6100\n",
       "2002-07-31  81.949997  82.800003  81.900002  82.529999  43.286724    29400\n",
       "2002-08-01  82.540001  83.019997  82.540001  83.000000  43.533253    25000\n",
       "2002-08-02  83.160004  84.099998  82.879997  83.849998  43.979088    52800\n",
       "2002-08-05  84.040001  84.440002  83.849998  84.220001  44.173149    61100\n",
       "...               ...        ...        ...        ...        ...      ...\n",
       "2007-07-09  83.870003  83.930000  83.680000  83.779999  55.618404   795400\n",
       "2007-07-11  84.949997  85.089996  84.320000  84.320000  55.976902  1191300\n",
       "2007-07-12  84.550003  84.580002  83.870003  84.029999  55.784393  1941200\n",
       "2007-07-13  84.449997  84.550003  83.940002  84.260002  55.937077   725900\n",
       "2007-07-17  84.860001  85.089996  84.500000  84.889999  56.355309   734200\n",
       "\n",
       "[239 rows x 6 columns]"
      ]
     },
     "execution_count": 68,
     "metadata": {},
     "output_type": "execute_result"
    }
   ],
   "source": [
    "tlt[tlt.Close < 85]"
   ]
  },
  {
   "cell_type": "code",
   "execution_count": 62,
   "metadata": {},
   "outputs": [
    {
     "data": {
      "text/plain": [
       "'Y = nan  X + nan'"
      ]
     },
     "execution_count": 62,
     "metadata": {},
     "output_type": "execute_result"
    }
   ],
   "source": [
    "regr_line"
   ]
  },
  {
   "cell_type": "markdown",
   "metadata": {},
   "source": [
    "상관계수가 낮은 자산에 투자하는것은 리스크를 완화하는데에 도움이 된다."
   ]
  },
  {
   "cell_type": "code",
   "execution_count": null,
   "metadata": {},
   "outputs": [],
   "source": []
  }
 ],
 "metadata": {
  "kernelspec": {
   "display_name": "Python 3",
   "language": "python",
   "name": "python3"
  },
  "language_info": {
   "codemirror_mode": {
    "name": "ipython",
    "version": 3
   },
   "file_extension": ".py",
   "mimetype": "text/x-python",
   "name": "python",
   "nbconvert_exporter": "python",
   "pygments_lexer": "ipython3",
   "version": "3.8.5"
  }
 },
 "nbformat": 4,
 "nbformat_minor": 4
}
