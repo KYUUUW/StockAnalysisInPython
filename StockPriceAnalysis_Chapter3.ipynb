{
 "cells": [
  {
   "cell_type": "markdown",
   "metadata": {},
   "source": [
    "# Pandas 를 이용한 데이터분석\n",
    "\n",
    "파이썬 증권 데이터 분석\n",
    "\n",
    "## 기초 Numpy 사용법"
   ]
  },
  {
   "cell_type": "code",
   "execution_count": 5,
   "metadata": {},
   "outputs": [
    {
     "data": {
      "text/plain": [
       "array([[1, 2],\n",
       "       [3, 4]])"
      ]
     },
     "execution_count": 5,
     "metadata": {},
     "output_type": "execute_result"
    }
   ],
   "source": [
    "import numpy as np\n",
    "\n",
    "A = np.array([[1,2], [3,4]])\n",
    "A"
   ]
  },
  {
   "cell_type": "code",
   "execution_count": 6,
   "metadata": {},
   "outputs": [
    {
     "data": {
      "text/plain": [
       "numpy.ndarray"
      ]
     },
     "execution_count": 6,
     "metadata": {},
     "output_type": "execute_result"
    }
   ],
   "source": [
    "type(A)"
   ]
  },
  {
   "cell_type": "code",
   "execution_count": 7,
   "metadata": {},
   "outputs": [
    {
     "data": {
      "text/plain": [
       "2"
      ]
     },
     "execution_count": 7,
     "metadata": {},
     "output_type": "execute_result"
    }
   ],
   "source": [
    "# 차원\n",
    "A.ndim"
   ]
  },
  {
   "cell_type": "code",
   "execution_count": 8,
   "metadata": {},
   "outputs": [
    {
     "data": {
      "text/plain": [
       "(2, 2)"
      ]
     },
     "execution_count": 8,
     "metadata": {},
     "output_type": "execute_result"
    }
   ],
   "source": [
    "# 크기\n",
    "A.shape"
   ]
  },
  {
   "cell_type": "code",
   "execution_count": 9,
   "metadata": {},
   "outputs": [
    {
     "data": {
      "text/plain": [
       "array([3, 4])"
      ]
     },
     "execution_count": 9,
     "metadata": {},
     "output_type": "execute_result"
    }
   ],
   "source": [
    "# 접근 1\n",
    "A[-1]"
   ]
  },
  {
   "cell_type": "code",
   "execution_count": 10,
   "metadata": {},
   "outputs": [
    {
     "data": {
      "text/plain": [
       "3"
      ]
     },
     "execution_count": 10,
     "metadata": {},
     "output_type": "execute_result"
    }
   ],
   "source": [
    "# 접근 2\n",
    "A[1][0]"
   ]
  },
  {
   "cell_type": "code",
   "execution_count": 11,
   "metadata": {},
   "outputs": [
    {
     "data": {
      "text/plain": [
       "array([2, 3, 4])"
      ]
     },
     "execution_count": 11,
     "metadata": {},
     "output_type": "execute_result"
    }
   ],
   "source": [
    "# 접근 3\n",
    "A[A>1]"
   ]
  },
  {
   "cell_type": "code",
   "execution_count": 12,
   "metadata": {},
   "outputs": [
    {
     "data": {
      "text/plain": [
       "array([[1, 3],\n",
       "       [2, 4]])"
      ]
     },
     "execution_count": 12,
     "metadata": {},
     "output_type": "execute_result"
    }
   ],
   "source": [
    "# Transpose\n",
    "A.T"
   ]
  },
  {
   "cell_type": "code",
   "execution_count": 13,
   "metadata": {},
   "outputs": [
    {
     "data": {
      "text/plain": [
       "array([1, 2, 3, 4])"
      ]
     },
     "execution_count": 13,
     "metadata": {},
     "output_type": "execute_result"
    }
   ],
   "source": [
    "# flatten\n",
    "A.flatten()"
   ]
  },
  {
   "cell_type": "code",
   "execution_count": 14,
   "metadata": {},
   "outputs": [
    {
     "data": {
      "text/plain": [
       "array([[2, 4],\n",
       "       [6, 8]])"
      ]
     },
     "execution_count": 14,
     "metadata": {},
     "output_type": "execute_result"
    }
   ],
   "source": [
    "# calc 1\n",
    "A + A"
   ]
  },
  {
   "cell_type": "code",
   "execution_count": 15,
   "metadata": {},
   "outputs": [
    {
     "data": {
      "text/plain": [
       "array([[ 1,  4],\n",
       "       [ 9, 16]])"
      ]
     },
     "execution_count": 15,
     "metadata": {},
     "output_type": "execute_result"
    }
   ],
   "source": [
    "# calc 2\n",
    "A * A"
   ]
  },
  {
   "cell_type": "code",
   "execution_count": 16,
   "metadata": {},
   "outputs": [
    {
     "data": {
      "text/plain": [
       "array([[1., 1.],\n",
       "       [1., 1.]])"
      ]
     },
     "execution_count": 16,
     "metadata": {},
     "output_type": "execute_result"
    }
   ],
   "source": [
    "# calc 3\n",
    "A / A"
   ]
  },
  {
   "cell_type": "code",
   "execution_count": 17,
   "metadata": {},
   "outputs": [
    {
     "data": {
      "text/plain": [
       "array([[ 10, 200],\n",
       "       [ 30, 400]])"
      ]
     },
     "execution_count": 17,
     "metadata": {},
     "output_type": "execute_result"
    }
   ],
   "source": [
    "# broadcasting\n",
    "A\n",
    "B = np.array([10, 100])\n",
    "A*B"
   ]
  },
  {
   "cell_type": "code",
   "execution_count": 18,
   "metadata": {},
   "outputs": [
    {
     "data": {
      "text/plain": [
       "10100"
      ]
     },
     "execution_count": 18,
     "metadata": {},
     "output_type": "execute_result"
    }
   ],
   "source": [
    "# dot product (내적) 1\n",
    "B.dot(B)"
   ]
  },
  {
   "cell_type": "code",
   "execution_count": 19,
   "metadata": {},
   "outputs": [
    {
     "data": {
      "text/plain": [
       "array([210, 430])"
      ]
     },
     "execution_count": 19,
     "metadata": {},
     "output_type": "execute_result"
    }
   ],
   "source": [
    "# dot product (내적) 1\n",
    "A.dot(B)"
   ]
  },
  {
   "cell_type": "markdown",
   "metadata": {},
   "source": [
    "## Pandas 사용법\n",
    "\n",
    "### Series\n",
    "\n",
    "1차원 벡터형태의 자료형 -> 시계열"
   ]
  },
  {
   "cell_type": "code",
   "execution_count": 20,
   "metadata": {},
   "outputs": [
    {
     "data": {
      "text/plain": [
       "0    0.0\n",
       "1    3.6\n",
       "2    2.0\n",
       "3    5.8\n",
       "4    4.2\n",
       "5    8.0\n",
       "dtype: float64"
      ]
     },
     "execution_count": 20,
     "metadata": {},
     "output_type": "execute_result"
    }
   ],
   "source": [
    "# Defining series\n",
    "import pandas as pd\n",
    "s = pd.Series([0.0, 3.6, 2.0, 5.8, 4.2, 8.0])\n",
    "s"
   ]
  },
  {
   "cell_type": "code",
   "execution_count": 21,
   "metadata": {},
   "outputs": [
    {
     "data": {
      "text/plain": [
       "MyIdx\n",
       "0.0    0.0\n",
       "1.2    3.6\n",
       "1.8    2.0\n",
       "3.0    5.8\n",
       "3.6    4.2\n",
       "4.8    8.0\n",
       "dtype: float64"
      ]
     },
     "execution_count": 21,
     "metadata": {},
     "output_type": "execute_result"
    }
   ],
   "source": [
    "# define index\n",
    "s.index = pd.Index([0.0, 1.2, 1.8, 3.0, 3.6, 4.8])\n",
    "s.index.name = 'MyIdx'\n",
    "s"
   ]
  },
  {
   "cell_type": "code",
   "execution_count": 22,
   "metadata": {},
   "outputs": [
    {
     "data": {
      "text/plain": [
       "MyIdx\n",
       "0.0    0.0\n",
       "1.2    3.6\n",
       "1.8    2.0\n",
       "3.0    5.8\n",
       "3.6    4.2\n",
       "4.8    8.0\n",
       "Name: MySeries, dtype: float64"
      ]
     },
     "execution_count": 22,
     "metadata": {},
     "output_type": "execute_result"
    }
   ],
   "source": [
    "# Define name\n",
    "s.name = 'MySeries'\n",
    "s"
   ]
  },
  {
   "cell_type": "code",
   "execution_count": 23,
   "metadata": {},
   "outputs": [
    {
     "data": {
      "text/plain": [
       "MyIdx\n",
       "0.0    0.0\n",
       "1.2    3.6\n",
       "1.8    2.0\n",
       "3.0    5.8\n",
       "3.6    4.2\n",
       "4.8    8.0\n",
       "5.9    5.5\n",
       "Name: MySeries, dtype: float64"
      ]
     },
     "execution_count": 23,
     "metadata": {},
     "output_type": "execute_result"
    }
   ],
   "source": [
    "# Add data\n",
    "s[5.9] = 5.5\n",
    "s"
   ]
  },
  {
   "cell_type": "code",
   "execution_count": 24,
   "metadata": {},
   "outputs": [
    {
     "data": {
      "text/plain": [
       "0.0    0.0\n",
       "1.2    3.6\n",
       "1.8    2.0\n",
       "3.0    5.8\n",
       "3.6    4.2\n",
       "4.8    8.0\n",
       "5.9    5.5\n",
       "6.8    6.7\n",
       "8.0    4.2\n",
       "dtype: float64"
      ]
     },
     "execution_count": 24,
     "metadata": {},
     "output_type": "execute_result"
    }
   ],
   "source": [
    "# Append series\n",
    "ser = pd.Series([6.7, 4.2], index=[6.8, 8.0])\n",
    "s = s.append(ser)\n",
    "s"
   ]
  },
  {
   "cell_type": "code",
   "execution_count": 25,
   "metadata": {},
   "outputs": [
    {
     "data": {
      "text/plain": [
       "8.0"
      ]
     },
     "execution_count": 25,
     "metadata": {},
     "output_type": "execute_result"
    }
   ],
   "source": [
    "# get index\n",
    "s.index[-1]"
   ]
  },
  {
   "cell_type": "code",
   "execution_count": 26,
   "metadata": {},
   "outputs": [
    {
     "data": {
      "text/plain": [
       "4.2"
      ]
     },
     "execution_count": 26,
     "metadata": {},
     "output_type": "execute_result"
    }
   ],
   "source": [
    "# get value by index order\n",
    "s.values[-1]"
   ]
  },
  {
   "cell_type": "code",
   "execution_count": 27,
   "metadata": {},
   "outputs": [
    {
     "data": {
      "text/plain": [
       "3.6"
      ]
     },
     "execution_count": 27,
     "metadata": {},
     "output_type": "execute_result"
    }
   ],
   "source": [
    "# get value by index\n",
    "s.loc[1.2]"
   ]
  },
  {
   "cell_type": "code",
   "execution_count": 28,
   "metadata": {},
   "outputs": [
    {
     "data": {
      "text/plain": [
       "4.2"
      ]
     },
     "execution_count": 28,
     "metadata": {},
     "output_type": "execute_result"
    }
   ],
   "source": [
    "# get value by integer location\n",
    "s.iloc[-1]"
   ]
  },
  {
   "cell_type": "code",
   "execution_count": 29,
   "metadata": {},
   "outputs": [
    {
     "data": {
      "text/plain": [
       "array([0. , 3.6, 2. , 5.8, 4.2, 8. , 5.5, 6.7, 4.2])"
      ]
     },
     "execution_count": 29,
     "metadata": {},
     "output_type": "execute_result"
    }
   ],
   "source": [
    "# differ between values and iloc 1\n",
    "s.values[:]"
   ]
  },
  {
   "cell_type": "code",
   "execution_count": 30,
   "metadata": {},
   "outputs": [
    {
     "data": {
      "text/plain": [
       "0.0    0.0\n",
       "1.2    3.6\n",
       "1.8    2.0\n",
       "3.0    5.8\n",
       "3.6    4.2\n",
       "4.8    8.0\n",
       "5.9    5.5\n",
       "6.8    6.7\n",
       "8.0    4.2\n",
       "dtype: float64"
      ]
     },
     "execution_count": 30,
     "metadata": {},
     "output_type": "execute_result"
    }
   ],
   "source": [
    "# differ between values and iloc 2\n",
    "s.iloc[:]"
   ]
  },
  {
   "cell_type": "code",
   "execution_count": 31,
   "metadata": {},
   "outputs": [
    {
     "data": {
      "text/plain": [
       "0.0    0.0\n",
       "1.2    3.6\n",
       "1.8    2.0\n",
       "3.0    5.8\n",
       "3.6    4.2\n",
       "4.8    8.0\n",
       "5.9    5.5\n",
       "6.8    6.7\n",
       "dtype: float64"
      ]
     },
     "execution_count": 31,
     "metadata": {},
     "output_type": "execute_result"
    }
   ],
   "source": [
    "# delete element\n",
    "s.drop(8.0)"
   ]
  },
  {
   "cell_type": "code",
   "execution_count": 32,
   "metadata": {},
   "outputs": [
    {
     "data": {
      "text/plain": [
       "count    9.000000\n",
       "mean     4.444444\n",
       "std      2.430078\n",
       "min      0.000000\n",
       "25%      3.600000\n",
       "50%      4.200000\n",
       "75%      5.800000\n",
       "max      8.000000\n",
       "dtype: float64"
      ]
     },
     "execution_count": 32,
     "metadata": {},
     "output_type": "execute_result"
    }
   ],
   "source": [
    "# describe series\n",
    "s.describe()"
   ]
  },
  {
   "cell_type": "code",
   "execution_count": 33,
   "metadata": {},
   "outputs": [
    {
     "data": {
      "image/png": "[encoded data removed]",
      "text/plain": [
       "<Figure size 432x288 with 1 Axes>"
      ]
     },
     "metadata": {
      "needs_background": "light"
     },
     "output_type": "display_data"
    }
   ],
   "source": [
    "# Visualize series\n",
    "import pandas as pd\n",
    "s = pd.Series([0.0, 3.6, 2.0, 5.8, 4.2, 8.0, 5.5, 6.7, 4.2])\n",
    "s.index = pd.Index([0.0, 1.2, 1.8, 3.0, 3.6, 4.8, 5.9, 6.8, 8.0])\n",
    "s.index.name = 'my idx name'\n",
    "s.name = 'Visualize eliott wave'\n",
    "\n",
    "import matplotlib.pyplot as plt\n",
    "plt.title('Elliot wave')\n",
    "plt.plot(s, 'bs--')\n",
    "plt.xticks(s.index)\n",
    "plt.yticks(s.values)\n",
    "plt.grid(True)\n",
    "plt.show()"
   ]
  },
  {
   "cell_type": "markdown",
   "metadata": {},
   "source": [
    "### Data frame\n",
    "\n",
    "한 시계열에 대해 여러 데이터가 필요할 때 dataframe 을 사용한다.\n",
    "\n",
    "각각의 데이터를 dictinary 형태로 넣어준다."
   ]
  },
  {
   "cell_type": "code",
   "execution_count": 34,
   "metadata": {},
   "outputs": [
    {
     "data": {
      "text/html": [
       "<div>\n",
       "<style scoped>\n",
       "    .dataframe tbody tr th:only-of-type {\n",
       "        vertical-align: middle;\n",
       "    }\n",
       "\n",
       "    .dataframe tbody tr th {\n",
       "        vertical-align: top;\n",
       "    }\n",
       "\n",
       "    .dataframe thead th {\n",
       "        text-align: right;\n",
       "    }\n",
       "</style>\n",
       "<table border=\"1\" class=\"dataframe\">\n",
       "  <thead>\n",
       "    <tr style=\"text-align: right;\">\n",
       "      <th></th>\n",
       "      <th>KOSPI</th>\n",
       "      <th>KOSDAQ</th>\n",
       "    </tr>\n",
       "  </thead>\n",
       "  <tbody>\n",
       "    <tr>\n",
       "      <th>0</th>\n",
       "      <td>1915</td>\n",
       "      <td>542</td>\n",
       "    </tr>\n",
       "    <tr>\n",
       "      <th>1</th>\n",
       "      <td>1961</td>\n",
       "      <td>682</td>\n",
       "    </tr>\n",
       "    <tr>\n",
       "      <th>2</th>\n",
       "      <td>2026</td>\n",
       "      <td>631</td>\n",
       "    </tr>\n",
       "    <tr>\n",
       "      <th>3</th>\n",
       "      <td>2467</td>\n",
       "      <td>798</td>\n",
       "    </tr>\n",
       "    <tr>\n",
       "      <th>4</th>\n",
       "      <td>2041</td>\n",
       "      <td>675</td>\n",
       "    </tr>\n",
       "  </tbody>\n",
       "</table>\n",
       "</div>"
      ],
      "text/plain": [
       "   KOSPI  KOSDAQ\n",
       "0   1915     542\n",
       "1   1961     682\n",
       "2   2026     631\n",
       "3   2467     798\n",
       "4   2041     675"
      ]
     },
     "execution_count": 34,
     "metadata": {},
     "output_type": "execute_result"
    }
   ],
   "source": [
    "import pandas as pd\n",
    "\n",
    "# Use dataframe\n",
    "df = pd.DataFrame({'KOSPI': [1915, 1961, 2026, 2467, 2041], \n",
    "                   'KOSDAQ': [542, 682, 631, 798, 675]})\n",
    "df"
   ]
  },
  {
   "cell_type": "code",
   "execution_count": 35,
   "metadata": {},
   "outputs": [
    {
     "data": {
      "text/html": [
       "<div>\n",
       "<style scoped>\n",
       "    .dataframe tbody tr th:only-of-type {\n",
       "        vertical-align: middle;\n",
       "    }\n",
       "\n",
       "    .dataframe tbody tr th {\n",
       "        vertical-align: top;\n",
       "    }\n",
       "\n",
       "    .dataframe thead th {\n",
       "        text-align: right;\n",
       "    }\n",
       "</style>\n",
       "<table border=\"1\" class=\"dataframe\">\n",
       "  <thead>\n",
       "    <tr style=\"text-align: right;\">\n",
       "      <th></th>\n",
       "      <th>KOSPI</th>\n",
       "      <th>KOSDAQ</th>\n",
       "    </tr>\n",
       "  </thead>\n",
       "  <tbody>\n",
       "    <tr>\n",
       "      <th>2014</th>\n",
       "      <td>1915</td>\n",
       "      <td>542</td>\n",
       "    </tr>\n",
       "    <tr>\n",
       "      <th>2015</th>\n",
       "      <td>1961</td>\n",
       "      <td>682</td>\n",
       "    </tr>\n",
       "    <tr>\n",
       "      <th>2016</th>\n",
       "      <td>2026</td>\n",
       "      <td>631</td>\n",
       "    </tr>\n",
       "    <tr>\n",
       "      <th>2017</th>\n",
       "      <td>2467</td>\n",
       "      <td>798</td>\n",
       "    </tr>\n",
       "    <tr>\n",
       "      <th>2018</th>\n",
       "      <td>2041</td>\n",
       "      <td>675</td>\n",
       "    </tr>\n",
       "  </tbody>\n",
       "</table>\n",
       "</div>"
      ],
      "text/plain": [
       "      KOSPI  KOSDAQ\n",
       "2014   1915     542\n",
       "2015   1961     682\n",
       "2016   2026     631\n",
       "2017   2467     798\n",
       "2018   2041     675"
      ]
     },
     "execution_count": 35,
     "metadata": {},
     "output_type": "execute_result"
    }
   ],
   "source": [
    "# define index\n",
    "df = pd.DataFrame({'KOSPI': [1915, 1961, 2026, 2467, 2041], \n",
    "                   'KOSDAQ': [542, 682, 631, 798, 675]},\n",
    "                 index=[2014, 2015, 2016, 2017, 2018])\n",
    "df"
   ]
  },
  {
   "cell_type": "code",
   "execution_count": 36,
   "metadata": {},
   "outputs": [
    {
     "name": "stdout",
     "output_type": "stream",
     "text": [
      "<class 'pandas.core.frame.DataFrame'>\n",
      "Int64Index: 5 entries, 2014 to 2018\n",
      "Data columns (total 2 columns):\n",
      " #   Column  Non-Null Count  Dtype\n",
      "---  ------  --------------  -----\n",
      " 0   KOSPI   5 non-null      int64\n",
      " 1   KOSDAQ  5 non-null      int64\n",
      "dtypes: int64(2)\n",
      "memory usage: 120.0 bytes\n"
     ]
    }
   ],
   "source": [
    "df.info()"
   ]
  },
  {
   "cell_type": "code",
   "execution_count": 37,
   "metadata": {},
   "outputs": [
    {
     "data": {
      "text/html": [
       "<div>\n",
       "<style scoped>\n",
       "    .dataframe tbody tr th:only-of-type {\n",
       "        vertical-align: middle;\n",
       "    }\n",
       "\n",
       "    .dataframe tbody tr th {\n",
       "        vertical-align: top;\n",
       "    }\n",
       "\n",
       "    .dataframe thead th {\n",
       "        text-align: right;\n",
       "    }\n",
       "</style>\n",
       "<table border=\"1\" class=\"dataframe\">\n",
       "  <thead>\n",
       "    <tr style=\"text-align: right;\">\n",
       "      <th></th>\n",
       "      <th>KOSPI</th>\n",
       "      <th>KOSDAQ</th>\n",
       "    </tr>\n",
       "  </thead>\n",
       "  <tbody>\n",
       "    <tr>\n",
       "      <th>2014</th>\n",
       "      <td>1915</td>\n",
       "      <td>542</td>\n",
       "    </tr>\n",
       "    <tr>\n",
       "      <th>2015</th>\n",
       "      <td>1961</td>\n",
       "      <td>682</td>\n",
       "    </tr>\n",
       "    <tr>\n",
       "      <th>2016</th>\n",
       "      <td>2026</td>\n",
       "      <td>631</td>\n",
       "    </tr>\n",
       "    <tr>\n",
       "      <th>2017</th>\n",
       "      <td>2467</td>\n",
       "      <td>798</td>\n",
       "    </tr>\n",
       "    <tr>\n",
       "      <th>2018</th>\n",
       "      <td>2041</td>\n",
       "      <td>675</td>\n",
       "    </tr>\n",
       "  </tbody>\n",
       "</table>\n",
       "</div>"
      ],
      "text/plain": [
       "      KOSPI  KOSDAQ\n",
       "2014   1915     542\n",
       "2015   1961     682\n",
       "2016   2026     631\n",
       "2017   2467     798\n",
       "2018   2041     675"
      ]
     },
     "execution_count": 37,
     "metadata": {},
     "output_type": "execute_result"
    }
   ],
   "source": [
    "# Combine serises to make dataframe\n",
    "kospi = pd.Series([1915, 1961, 2026, 2467, 2041], index=[2014, 2015, 2016, 2017, 2018], name='KOSPI')\n",
    "kosdaq = pd.Series([542, 682, 631, 798, 675], index=[2014, 2015, 2016, 2017, 2018], name='KOSDAQ')\n",
    "df = pd.DataFrame({kospi.name: kospi, kosdaq.name: kosdaq})\n",
    "df"
   ]
  },
  {
   "cell_type": "code",
   "execution_count": 38,
   "metadata": {},
   "outputs": [
    {
     "data": {
      "text/html": [
       "<div>\n",
       "<style scoped>\n",
       "    .dataframe tbody tr th:only-of-type {\n",
       "        vertical-align: middle;\n",
       "    }\n",
       "\n",
       "    .dataframe tbody tr th {\n",
       "        vertical-align: top;\n",
       "    }\n",
       "\n",
       "    .dataframe thead th {\n",
       "        text-align: right;\n",
       "    }\n",
       "</style>\n",
       "<table border=\"1\" class=\"dataframe\">\n",
       "  <thead>\n",
       "    <tr style=\"text-align: right;\">\n",
       "      <th></th>\n",
       "      <th>KOSPI</th>\n",
       "      <th>KOSDAQ</th>\n",
       "    </tr>\n",
       "  </thead>\n",
       "  <tbody>\n",
       "    <tr>\n",
       "      <th>2014</th>\n",
       "      <td>1915</td>\n",
       "      <td>542</td>\n",
       "    </tr>\n",
       "    <tr>\n",
       "      <th>2015</th>\n",
       "      <td>1961</td>\n",
       "      <td>682</td>\n",
       "    </tr>\n",
       "    <tr>\n",
       "      <th>2016</th>\n",
       "      <td>2026</td>\n",
       "      <td>631</td>\n",
       "    </tr>\n",
       "    <tr>\n",
       "      <th>2017</th>\n",
       "      <td>2467</td>\n",
       "      <td>798</td>\n",
       "    </tr>\n",
       "    <tr>\n",
       "      <th>2018</th>\n",
       "      <td>2041</td>\n",
       "      <td>675</td>\n",
       "    </tr>\n",
       "  </tbody>\n",
       "</table>\n",
       "</div>"
      ],
      "text/plain": [
       "      KOSPI  KOSDAQ\n",
       "2014   1915     542\n",
       "2015   1961     682\n",
       "2016   2026     631\n",
       "2017   2467     798\n",
       "2018   2041     675"
      ]
     },
     "execution_count": 38,
     "metadata": {},
     "output_type": "execute_result"
    }
   ],
   "source": [
    "# Use list to make dataframeL rows and colums\n",
    "columns = ['KOSPI', 'KOSDAQ']\n",
    "index = [2014, 2015, 2016, 2017, 2018]\n",
    "rows = []\n",
    "rows.append([1915, 542])\n",
    "rows.append([1961, 682])\n",
    "rows.append([2026, 631])\n",
    "rows.append([2467, 798])\n",
    "rows.append([2041, 675])\n",
    "\n",
    "df = pd.DataFrame(rows, columns=columns, index=index)"
   ]
  },
  {
   "cell_type": "code",
   "execution_count": 39,
   "metadata": {},
   "outputs": [
    {
     "name": "stdout",
     "output_type": "stream",
     "text": [
      "2014 1915 542\n",
      "2015 1961 682\n",
      "2016 2026 631\n",
      "2017 2467 798\n",
      "2018 2041 675\n"
     ]
    }
   ],
   "source": [
    "# Round dataframe 1\n",
    "for i in df.index:\n",
    "    print(i, df['KOSPI'][i], df['KOSDAQ'][i])"
   ]
  },
  {
   "cell_type": "code",
   "execution_count": 40,
   "metadata": {},
   "outputs": [
    {
     "name": "stdout",
     "output_type": "stream",
     "text": [
      "KRX(Index=2014, KOSPI=1915, KOSDAQ=542)\n",
      "KRX(Index=2015, KOSPI=1961, KOSDAQ=682)\n",
      "KRX(Index=2016, KOSPI=2026, KOSDAQ=631)\n",
      "KRX(Index=2017, KOSPI=2467, KOSDAQ=798)\n",
      "KRX(Index=2018, KOSPI=2041, KOSDAQ=675)\n"
     ]
    }
   ],
   "source": [
    "# Round dataframe 2\n",
    "for row in df.itertuples(name='KRX'):\n",
    "    print(row)"
   ]
  },
  {
   "cell_type": "code",
   "execution_count": 41,
   "metadata": {},
   "outputs": [
    {
     "name": "stdout",
     "output_type": "stream",
     "text": [
      "[*********************100%***********************]  1 of 1 completed\n",
      "[*********************100%***********************]  1 of 1 completed\n"
     ]
    },
    {
     "data": {
      "text/html": [
       "<div>\n",
       "<style scoped>\n",
       "    .dataframe tbody tr th:only-of-type {\n",
       "        vertical-align: middle;\n",
       "    }\n",
       "\n",
       "    .dataframe tbody tr th {\n",
       "        vertical-align: top;\n",
       "    }\n",
       "\n",
       "    .dataframe thead th {\n",
       "        text-align: right;\n",
       "    }\n",
       "</style>\n",
       "<table border=\"1\" class=\"dataframe\">\n",
       "  <thead>\n",
       "    <tr style=\"text-align: right;\">\n",
       "      <th></th>\n",
       "      <th>Open</th>\n",
       "      <th>High</th>\n",
       "      <th>Low</th>\n",
       "      <th>Close</th>\n",
       "      <th>Adj Close</th>\n",
       "      <th>Volume</th>\n",
       "    </tr>\n",
       "    <tr>\n",
       "      <th>Date</th>\n",
       "      <th></th>\n",
       "      <th></th>\n",
       "      <th></th>\n",
       "      <th></th>\n",
       "      <th></th>\n",
       "      <th></th>\n",
       "    </tr>\n",
       "  </thead>\n",
       "  <tbody>\n",
       "    <tr>\n",
       "      <th>2018-05-04</th>\n",
       "      <td>53000.0</td>\n",
       "      <td>53900.0</td>\n",
       "      <td>51800.0</td>\n",
       "      <td>51900.0</td>\n",
       "      <td>47034.734375</td>\n",
       "      <td>39565391</td>\n",
       "    </tr>\n",
       "    <tr>\n",
       "      <th>2018-05-08</th>\n",
       "      <td>52600.0</td>\n",
       "      <td>53200.0</td>\n",
       "      <td>51900.0</td>\n",
       "      <td>52600.0</td>\n",
       "      <td>47669.113281</td>\n",
       "      <td>23104720</td>\n",
       "    </tr>\n",
       "    <tr>\n",
       "      <th>2018-05-09</th>\n",
       "      <td>52600.0</td>\n",
       "      <td>52800.0</td>\n",
       "      <td>50900.0</td>\n",
       "      <td>50900.0</td>\n",
       "      <td>46128.468750</td>\n",
       "      <td>16128305</td>\n",
       "    </tr>\n",
       "    <tr>\n",
       "      <th>2018-05-10</th>\n",
       "      <td>51700.0</td>\n",
       "      <td>51700.0</td>\n",
       "      <td>50600.0</td>\n",
       "      <td>51600.0</td>\n",
       "      <td>46762.851562</td>\n",
       "      <td>13905263</td>\n",
       "    </tr>\n",
       "    <tr>\n",
       "      <th>2018-05-11</th>\n",
       "      <td>52000.0</td>\n",
       "      <td>52200.0</td>\n",
       "      <td>51200.0</td>\n",
       "      <td>51300.0</td>\n",
       "      <td>46490.968750</td>\n",
       "      <td>10314997</td>\n",
       "    </tr>\n",
       "    <tr>\n",
       "      <th>2018-05-14</th>\n",
       "      <td>51000.0</td>\n",
       "      <td>51100.0</td>\n",
       "      <td>49900.0</td>\n",
       "      <td>50100.0</td>\n",
       "      <td>45403.468750</td>\n",
       "      <td>14909272</td>\n",
       "    </tr>\n",
       "    <tr>\n",
       "      <th>2018-05-15</th>\n",
       "      <td>50200.0</td>\n",
       "      <td>50400.0</td>\n",
       "      <td>49100.0</td>\n",
       "      <td>49200.0</td>\n",
       "      <td>44587.835938</td>\n",
       "      <td>18709146</td>\n",
       "    </tr>\n",
       "    <tr>\n",
       "      <th>2018-05-16</th>\n",
       "      <td>49200.0</td>\n",
       "      <td>50200.0</td>\n",
       "      <td>49150.0</td>\n",
       "      <td>49850.0</td>\n",
       "      <td>45176.902344</td>\n",
       "      <td>15918683</td>\n",
       "    </tr>\n",
       "    <tr>\n",
       "      <th>2018-05-17</th>\n",
       "      <td>50300.0</td>\n",
       "      <td>50500.0</td>\n",
       "      <td>49400.0</td>\n",
       "      <td>49400.0</td>\n",
       "      <td>44769.093750</td>\n",
       "      <td>10365440</td>\n",
       "    </tr>\n",
       "    <tr>\n",
       "      <th>2018-05-18</th>\n",
       "      <td>49900.0</td>\n",
       "      <td>49900.0</td>\n",
       "      <td>49350.0</td>\n",
       "      <td>49500.0</td>\n",
       "      <td>44859.707031</td>\n",
       "      <td>6706570</td>\n",
       "    </tr>\n",
       "  </tbody>\n",
       "</table>\n",
       "</div>"
      ],
      "text/plain": [
       "               Open     High      Low    Close     Adj Close    Volume\n",
       "Date                                                                  \n",
       "2018-05-04  53000.0  53900.0  51800.0  51900.0  47034.734375  39565391\n",
       "2018-05-08  52600.0  53200.0  51900.0  52600.0  47669.113281  23104720\n",
       "2018-05-09  52600.0  52800.0  50900.0  50900.0  46128.468750  16128305\n",
       "2018-05-10  51700.0  51700.0  50600.0  51600.0  46762.851562  13905263\n",
       "2018-05-11  52000.0  52200.0  51200.0  51300.0  46490.968750  10314997\n",
       "2018-05-14  51000.0  51100.0  49900.0  50100.0  45403.468750  14909272\n",
       "2018-05-15  50200.0  50400.0  49100.0  49200.0  44587.835938  18709146\n",
       "2018-05-16  49200.0  50200.0  49150.0  49850.0  45176.902344  15918683\n",
       "2018-05-17  50300.0  50500.0  49400.0  49400.0  44769.093750  10365440\n",
       "2018-05-18  49900.0  49900.0  49350.0  49500.0  44859.707031   6706570"
      ]
     },
     "execution_count": 41,
     "metadata": {},
     "output_type": "execute_result"
    }
   ],
   "source": [
    "# fetch yahoo finance data\n",
    "from pandas_datareader import data as pdr\n",
    "import yfinance as yf\n",
    "yf.pdr_override() # use pandas datareader\n",
    "\n",
    "sec = pdr.get_data_yahoo('005930.KS', start='2018-05-04')\n",
    "msft = pdr.get_data_yahoo('MSFT', start='2018-05-04')\n",
    "\n",
    "sec.head(10)"
   ]
  },
  {
   "cell_type": "code",
   "execution_count": 50,
   "metadata": {},
   "outputs": [
    {
     "data": {
      "image/png": "[encoded data removed]",
      "text/plain": [
       "<Figure size 432x288 with 1 Axes>"
      ]
     },
     "metadata": {
      "needs_background": "light"
     },
     "output_type": "display_data"
    }
   ],
   "source": [
    "# Comparison of SEC and MSFT stock price\n",
    "plt.plot(sec.index, sec.Close, 'b', label='SEC')\n",
    "plt.plot(msft.index, msft.Close, 'r--', label='MS')\n",
    "plt.legend(loc='best') # 적절한 위치에 범례 생성\n",
    "plt.show()"
   ]
  },
  {
   "cell_type": "code",
   "execution_count": 55,
   "metadata": {},
   "outputs": [
    {
     "data": {
      "text/plain": [
       "Date\n",
       "2018-05-04    0.000000\n",
       "2018-05-08    1.348748\n",
       "2018-05-09   -3.231939\n",
       "2018-05-10    1.375246\n",
       "2018-05-11   -0.581395\n",
       "                ...   \n",
       "2021-02-26   -3.282532\n",
       "2021-03-02    1.333333\n",
       "2021-03-03    0.478469\n",
       "2021-03-04   -1.904762\n",
       "2021-03-05   -0.364078\n",
       "Name: Close, Length: 694, dtype: float64"
      ]
     },
     "execution_count": 55,
     "metadata": {},
     "output_type": "execute_result"
    }
   ],
   "source": [
    "# Get daily percent change\n",
    "sec_dpc = (sec['Close'] / sec['Close'].shift(1) - 1) * 100\n",
    "sec_dpc.iloc[0] = 0\n",
    "sec_dpc"
   ]
  },
  {
   "cell_type": "code",
   "execution_count": 57,
   "metadata": {},
   "outputs": [
    {
     "data": {
      "text/plain": [
       "[<matplotlib.lines.Line2D at 0x2144b47a940>]"
      ]
     },
     "execution_count": 57,
     "metadata": {},
     "output_type": "execute_result"
    },
    {
     "data": {
      "image/png": "[encoded data removed]",
      "text/plain": [
       "<Figure size 432x288 with 1 Axes>"
      ]
     },
     "metadata": {
      "needs_background": "light"
     },
     "output_type": "display_data"
    }
   ],
   "source": [
    "# Get graph\n",
    "plt.plot(sec_dpc, 'r')"
   ]
  },
  {
   "cell_type": "code",
   "execution_count": 59,
   "metadata": {},
   "outputs": [
    {
     "data": {
      "image/png": "[encoded data removed]",
      "text/plain": [
       "<Figure size 432x288 with 1 Axes>"
      ]
     },
     "metadata": {
      "needs_background": "light"
     },
     "output_type": "display_data"
    }
   ],
   "source": [
    "# histogram of frequence distribution\n",
    "plt.hist(sec_dpc, bins=18)\n",
    "plt.grid(True)\n",
    "plt.show()"
   ]
  },
  {
   "cell_type": "code",
   "execution_count": 60,
   "metadata": {},
   "outputs": [
    {
     "data": {
      "text/plain": [
       "Date\n",
       "2018-05-04     0.000000\n",
       "2018-05-08     1.348748\n",
       "2018-05-09    -1.883192\n",
       "2018-05-10    -0.507946\n",
       "2018-05-11    -1.089341\n",
       "                ...    \n",
       "2021-02-26    57.278729\n",
       "2021-03-02    58.612062\n",
       "2021-03-03    59.090531\n",
       "2021-03-04    57.185769\n",
       "2021-03-05    56.821691\n",
       "Name: Close, Length: 694, dtype: float64"
      ]
     },
     "execution_count": 60,
     "metadata": {},
     "output_type": "execute_result"
    }
   ],
   "source": [
    "# daily percent change cummulative sum\n",
    "sec_dpc_cs = sec_dpc.cumsum()\n",
    "sec_dpc_cs"
   ]
  },
  {
   "cell_type": "code",
   "execution_count": null,
   "metadata": {},
   "outputs": [],
   "source": []
  }
 ],
 "metadata": {
  "kernelspec": {
   "display_name": "Python 3",
   "language": "python",
   "name": "python3"
  },
  "language_info": {
   "codemirror_mode": {
    "name": "ipython",
    "version": 3
   },
   "file_extension": ".py",
   "mimetype": "text/x-python",
   "name": "python",
   "nbconvert_exporter": "python",
   "pygments_lexer": "ipython3",
   "version": "3.8.5"
  }
 },
 "nbformat": 4,
 "nbformat_minor": 4
}
